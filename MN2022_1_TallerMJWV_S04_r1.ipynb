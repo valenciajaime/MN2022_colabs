{
  "nbformat": 4,
  "nbformat_minor": 0,
  "metadata": {
    "colab": {
      "name": "MN2022_1-TallerMJWV_S04_r1.ipynb",
      "provenance": [],
      "collapsed_sections": [],
      "toc_visible": true,
      "include_colab_link": true
    },
    "kernelspec": {
      "name": "python3",
      "display_name": "Python 3"
    },
    "language_info": {
      "name": "python"
    }
  },
  "cells": [
    {
      "cell_type": "markdown",
      "metadata": {
        "id": "view-in-github",
        "colab_type": "text"
      },
      "source": [
        "<a href=\"https://colab.research.google.com/github/valenciajaime/MN2022_colabs/blob/main/MN2022_1_TallerMJWV_S04_r1.ipynb\" target=\"_parent\"><img src=\"https://colab.research.google.com/assets/colab-badge.svg\" alt=\"Open In Colab\"/></a>"
      ]
    },
    {
      "cell_type": "markdown",
      "metadata": {
        "id": "7NkmQP8zvk3c"
      },
      "source": [
        "# Portada Taller MJWVS04"
      ]
    },
    {
      "cell_type": "markdown",
      "metadata": {
        "id": "-LmFfnJ5vt2H"
      },
      "source": [
        "**Nombres:** \n",
        "\n",
        "\n",
        "\n",
        "**Email:**\n",
        "\n",
        "\n",
        "**Curso:**\n",
        "Metodos numericos 2022-1 MJ-WV\n",
        "\n",
        "**Fecha:**\n",
        "Viernes 2022-junio-17\n",
        "\n",
        "**Fecha ultima Edicion:**\n",
        "\n"
      ]
    },
    {
      "cell_type": "markdown",
      "metadata": {
        "id": "T7cD2HZWwW0v"
      },
      "source": [
        "# Descripción"
      ]
    },
    {
      "cell_type": "markdown",
      "metadata": {
        "id": "YrL9ny-swbsu"
      },
      "source": [
        "**Objetivos:**\n",
        "\n",
        "Lectura de datos del plotXY de ATP.\n",
        "\n",
        "Ejemplo para los archivos Monof_01.adf y Trif_01.adf que se deben cargar.\n",
        "\n",
        "\n",
        "**Desarrollo**\n",
        "\n",
        "\n",
        "\n",
        "1.   Lectura de archivos originales\n",
        "\n",
        "   \n",
        "\n",
        "\n",
        "\n",
        "\n"
      ]
    },
    {
      "cell_type": "markdown",
      "source": [
        "# Importacion Modulos"
      ],
      "metadata": {
        "id": "zulNqH1LvIwn"
      }
    },
    {
      "cell_type": "code",
      "source": [
        "import pylab as plt\n",
        "import matplotlib\n",
        "import numpy as np\n",
        "import scipy as SC\n",
        "import sympy as SP\n",
        "\n",
        "print(\"Version numpy: \",np.__version__)\n",
        "print(\"Version Matplotlib: \",matplotlib.__version__)\n",
        "print(\"Version scipy: \", SC.__version__)\n",
        "print(\"Version sympy: \",  SP.__version__)"
      ],
      "metadata": {
        "id": "SvK8axp7FEJm",
        "colab": {
          "base_uri": "https://localhost:8080/"
        },
        "outputId": "50df9bdb-9e16-4d27-d16e-3e5042095955"
      },
      "execution_count": null,
      "outputs": [
        {
          "output_type": "stream",
          "name": "stdout",
          "text": [
            "Version numpy:  1.21.6\n",
            "Version Matplotlib:  3.2.2\n",
            "Version scipy:  1.4.1\n",
            "Version sympy:  1.7.1\n"
          ]
        }
      ]
    },
    {
      "cell_type": "markdown",
      "source": [
        "# Lectura de archivos (open)"
      ],
      "metadata": {
        "id": "Y9lbBguviz4m"
      }
    },
    {
      "cell_type": "code",
      "source": [
        "#Funcion de lectura\n",
        "def Leer_ADF01(fnombre):\n",
        "    \"\"\"fnombre: str nombre de archivo\n",
        "       Lectura de datos de archivos ADF\n",
        "       \n",
        "       retorna un numpy.array con los datos numericos de las\n",
        "       columnas y los nombres de las columnas.\n",
        "       Numero de filas== columnas archivo\n",
        "       Lista de str con nombre de las columnas\n",
        "\n",
        "    \"\"\"\n",
        "    Datos = open(fnombre,\"r\")\n",
        "    Datos.readline() #linea de informacion del archivo\n",
        "    heads = Datos.readline() #Linea de nombre de columnas\n",
        "    Titulos = heads.strip().split(\" \")#separacion nombre de columnas\n",
        "    Nc = len(Titulos) #numero de columnas\n",
        "\n",
        "    Valores = []\n",
        "    for q in Titulos:\n",
        "      Valores.append([])##abre lista por cada columna\n",
        "      \n",
        "    for q in Datos:\n",
        "      a= q.strip().split('\\t')\n",
        "      for k in range(Nc):\n",
        "        Valores[k].append(float(a[k]))\n",
        "    Datos.close()\n",
        "    Valores = np.array(Valores)\n",
        "        \n",
        "    return Valores,Titulos\n"
      ],
      "metadata": {
        "id": "9kqwKeuNvYRc"
      },
      "execution_count": null,
      "outputs": []
    },
    {
      "cell_type": "code",
      "source": [
        "#grafico de datos\n",
        "fnombre1 =\"Monof_01.adf\"\n",
        "DD1,DD2 = Leer_ADF01(fnombre1)\n",
        "print(\"Filas: \",DD2)\n",
        "print(\"Datos: \",DD1.shape)\n"
      ],
      "metadata": {
        "colab": {
          "base_uri": "https://localhost:8080/"
        },
        "id": "GmuZOm35vkFM",
        "outputId": "c530db15-966a-41c8-ac82-311bad7b0dc3"
      },
      "execution_count": null,
      "outputs": [
        {
          "output_type": "stream",
          "name": "stdout",
          "text": [
            "Filas:  ['t', 'vVs', 'iXx0001Va']\n",
            "Datos:  (3, 1001)\n"
          ]
        }
      ]
    },
    {
      "cell_type": "code",
      "source": [
        "Tiempo = DD1[0,:]\n",
        "Volts = DD1[1,:]\n",
        "Corriente = DD1[2,:]\n",
        "\n",
        "plt.plot(Tiempo,Volts)\n",
        "plt.plot(Tiempo, Corriente)\n"
      ],
      "metadata": {
        "colab": {
          "base_uri": "https://localhost:8080/",
          "height": 282
        },
        "id": "0YrvrcnMIQtR",
        "outputId": "9c2ac98f-83f4-4167-afc8-d9e97ac0e51d"
      },
      "execution_count": null,
      "outputs": [
        {
          "output_type": "execute_result",
          "data": {
            "text/plain": [
              "[<matplotlib.lines.Line2D at 0x7f193aa23e10>]"
            ]
          },
          "metadata": {},
          "execution_count": 5
        },
        {
          "output_type": "display_data",
          "data": {
            "text/plain": [
              "<Figure size 432x288 with 1 Axes>"
            ],
            "image/png": "[encoded data removed]"
          },
          "metadata": {
            "needs_background": "light"
          }
        }
      ]
    },
    {
      "cell_type": "code",
      "source": [
        "#grafico de datos\n",
        "fnombre1 =\"Trif_01.adf\"\n",
        "DD3,DD4 = Leer_ADF01(fnombre1)\n",
        "print(\"Columnas: \",DD4)\n",
        "print(\"Datos: \",DD3.shape)"
      ],
      "metadata": {
        "colab": {
          "base_uri": "https://localhost:8080/"
        },
        "id": "CsaRNBzoJBlJ",
        "outputId": "3e7da4e0-4aa2-49f8-b319-918223c18f06"
      },
      "execution_count": null,
      "outputs": [
        {
          "output_type": "stream",
          "name": "stdout",
          "text": [
            "Columnas:  ['t', 'vVda', 'vVdb', 'vVdc', 'iVsaVda', 'iVsbVdb', 'iVscVdc']\n",
            "Datos:  (7, 1751)\n"
          ]
        }
      ]
    },
    {
      "cell_type": "code",
      "source": [
        "T3 = DD3[0,:] #instantes de tiempo\n",
        "V_fa = DD3[1,:] #voltraje en fase a\n",
        "I_fa = DD3[4,:] #corriente en fase a\n",
        "\n",
        "plt.plot(T3,V_fa,T3,I_fa*10)"
      ],
      "metadata": {
        "colab": {
          "base_uri": "https://localhost:8080/",
          "height": 301
        },
        "id": "YukMP-fzhYMR",
        "outputId": "54ef3b5a-d5e3-4746-d619-1d3e04afcf69"
      },
      "execution_count": null,
      "outputs": [
        {
          "output_type": "execute_result",
          "data": {
            "text/plain": [
              "[<matplotlib.lines.Line2D at 0x7f83ca678690>,\n",
              " <matplotlib.lines.Line2D at 0x7f83ca6788d0>]"
            ]
          },
          "metadata": {},
          "execution_count": 8
        },
        {
          "output_type": "display_data",
          "data": {
            "text/plain": [
              "<Figure size 432x288 with 1 Axes>"
            ],
            "image/png": "[encoded data removed]"
          },
          "metadata": {
            "needs_background": "light"
          }
        }
      ]
    },
    {
      "cell_type": "markdown",
      "source": [
        "# Lectura pandas"
      ],
      "metadata": {
        "id": "VgXqW-W-YBfy"
      }
    },
    {
      "cell_type": "code",
      "source": [
        "#Import Libraries\n",
        "import pandas as pd\n",
        "\n",
        "\n",
        "#lectura de datos\n",
        "dataset = pd.read_csv(\"Monof_01.adf\",sep=\"\\t\", skiprows=2)\n"
      ],
      "metadata": {
        "id": "WfmkallPYRVQ"
      },
      "execution_count": null,
      "outputs": []
    },
    {
      "cell_type": "code",
      "source": [
        "dataset.head()"
      ],
      "metadata": {
        "id": "wWlmgi8XY18t",
        "colab": {
          "base_uri": "https://localhost:8080/",
          "height": 206
        },
        "outputId": "c5fd6260-d544-4ba3-8e1d-d9fefd77b46c"
      },
      "execution_count": null,
      "outputs": [
        {
          "output_type": "execute_result",
          "data": {
            "text/plain": [
              "         0  1.03915e-14  0.0639767  Unnamed: 3\n",
              "0  0.00005      3.19869   0.063981         NaN\n",
              "1  0.00010      6.39624   0.063963         NaN\n",
              "2  0.00015      9.59151   0.063922         NaN\n",
              "3  0.00020     12.78340   0.063857         NaN\n",
              "4  0.00025     15.97070   0.063770         NaN"
            ],
            "text/html": [
              "\n",
              "  <div id=\"df-ac4984c7-8895-4f7d-a9f5-0c1f71e448a3\">\n",
              "    <div class=\"colab-df-container\">\n",
              "      <div>\n",
              "<style scoped>\n",
              "    .dataframe tbody tr th:only-of-type {\n",
              "        vertical-align: middle;\n",
              "    }\n",
              "\n",
              "    .dataframe tbody tr th {\n",
              "        vertical-align: top;\n",
              "    }\n",
              "\n",
              "    .dataframe thead th {\n",
              "        text-align: right;\n",
              "    }\n",
              "</style>\n",
              "<table border=\"1\" class=\"dataframe\">\n",
              "  <thead>\n",
              "    <tr style=\"text-align: right;\">\n",
              "      <th></th>\n",
              "      <th>0</th>\n",
              "      <th>1.03915e-14</th>\n",
              "      <th>0.0639767</th>\n",
              "      <th>Unnamed: 3</th>\n",
              "    </tr>\n",
              "  </thead>\n",
              "  <tbody>\n",
              "    <tr>\n",
              "      <th>0</th>\n",
              "      <td>0.00005</td>\n",
              "      <td>3.19869</td>\n",
              "      <td>0.063981</td>\n",
              "      <td>NaN</td>\n",
              "    </tr>\n",
              "    <tr>\n",
              "      <th>1</th>\n",
              "      <td>0.00010</td>\n",
              "      <td>6.39624</td>\n",
              "      <td>0.063963</td>\n",
              "      <td>NaN</td>\n",
              "    </tr>\n",
              "    <tr>\n",
              "      <th>2</th>\n",
              "      <td>0.00015</td>\n",
              "      <td>9.59151</td>\n",
              "      <td>0.063922</td>\n",
              "      <td>NaN</td>\n",
              "    </tr>\n",
              "    <tr>\n",
              "      <th>3</th>\n",
              "      <td>0.00020</td>\n",
              "      <td>12.78340</td>\n",
              "      <td>0.063857</td>\n",
              "      <td>NaN</td>\n",
              "    </tr>\n",
              "    <tr>\n",
              "      <th>4</th>\n",
              "      <td>0.00025</td>\n",
              "      <td>15.97070</td>\n",
              "      <td>0.063770</td>\n",
              "      <td>NaN</td>\n",
              "    </tr>\n",
              "  </tbody>\n",
              "</table>\n",
              "</div>\n",
              "      <button class=\"colab-df-convert\" onclick=\"convertToInteractive('df-ac4984c7-8895-4f7d-a9f5-0c1f71e448a3')\"\n",
              "              title=\"Convert this dataframe to an interactive table.\"\n",
              "              style=\"display:none;\">\n",
              "        \n",
              "  <svg xmlns=\"http://www.w3.org/2000/svg\" height=\"24px\"viewBox=\"0 0 24 24\"\n",
              "       width=\"24px\">\n",
              "    <path d=\"M0 0h24v24H0V0z\" fill=\"none\"/>\n",
              "    <path d=\"M18.56 5.44l.94 2.06.94-2.06 2.06-.94-2.06-.94-.94-2.06-.94 2.06-2.06.94zm-11 1L8.5 8.5l.94-2.06 2.06-.94-2.06-.94L8.5 2.5l-.94 2.06-2.06.94zm10 10l.94 2.06.94-2.06 2.06-.94-2.06-.94-.94-2.06-.94 2.06-2.06.94z\"/><path d=\"M17.41 7.96l-1.37-1.37c-.4-.4-.92-.59-1.43-.59-.52 0-1.04.2-1.43.59L10.3 9.45l-7.72 7.72c-.78.78-.78 2.05 0 2.83L4 21.41c.39.39.9.59 1.41.59.51 0 1.02-.2 1.41-.59l7.78-7.78 2.81-2.81c.8-.78.8-2.07 0-2.86zM5.41 20L4 18.59l7.72-7.72 1.47 1.35L5.41 20z\"/>\n",
              "  </svg>\n",
              "      </button>\n",
              "      \n",
              "  <style>\n",
              "    .colab-df-container {\n",
              "      display:flex;\n",
              "      flex-wrap:wrap;\n",
              "      gap: 12px;\n",
              "    }\n",
              "\n",
              "    .colab-df-convert {\n",
              "      background-color: #E8F0FE;\n",
              "      border: none;\n",
              "      border-radius: 50%;\n",
              "      cursor: pointer;\n",
              "      display: none;\n",
              "      fill: #1967D2;\n",
              "      height: 32px;\n",
              "      padding: 0 0 0 0;\n",
              "      width: 32px;\n",
              "    }\n",
              "\n",
              "    .colab-df-convert:hover {\n",
              "      background-color: #E2EBFA;\n",
              "      box-shadow: 0px 1px 2px rgba(60, 64, 67, 0.3), 0px 1px 3px 1px rgba(60, 64, 67, 0.15);\n",
              "      fill: #174EA6;\n",
              "    }\n",
              "\n",
              "    [theme=dark] .colab-df-convert {\n",
              "      background-color: #3B4455;\n",
              "      fill: #D2E3FC;\n",
              "    }\n",
              "\n",
              "    [theme=dark] .colab-df-convert:hover {\n",
              "      background-color: #434B5C;\n",
              "      box-shadow: 0px 1px 3px 1px rgba(0, 0, 0, 0.15);\n",
              "      filter: drop-shadow(0px 1px 2px rgba(0, 0, 0, 0.3));\n",
              "      fill: #FFFFFF;\n",
              "    }\n",
              "  </style>\n",
              "\n",
              "      <script>\n",
              "        const buttonEl =\n",
              "          document.querySelector('#df-ac4984c7-8895-4f7d-a9f5-0c1f71e448a3 button.colab-df-convert');\n",
              "        buttonEl.style.display =\n",
              "          google.colab.kernel.accessAllowed ? 'block' : 'none';\n",
              "\n",
              "        async function convertToInteractive(key) {\n",
              "          const element = document.querySelector('#df-ac4984c7-8895-4f7d-a9f5-0c1f71e448a3');\n",
              "          const dataTable =\n",
              "            await google.colab.kernel.invokeFunction('convertToInteractive',\n",
              "                                                     [key], {});\n",
              "          if (!dataTable) return;\n",
              "\n",
              "          const docLinkHtml = 'Like what you see? Visit the ' +\n",
              "            '<a target=\"_blank\" href=https://colab.research.google.com/notebooks/data_table.ipynb>data table notebook</a>'\n",
              "            + ' to learn more about interactive tables.';\n",
              "          element.innerHTML = '';\n",
              "          dataTable['output_type'] = 'display_data';\n",
              "          await google.colab.output.renderOutput(dataTable, element);\n",
              "          const docLink = document.createElement('div');\n",
              "          docLink.innerHTML = docLinkHtml;\n",
              "          element.appendChild(docLink);\n",
              "        }\n",
              "      </script>\n",
              "    </div>\n",
              "  </div>\n",
              "  "
            ]
          },
          "metadata": {},
          "execution_count": 6
        }
      ]
    },
    {
      "cell_type": "code",
      "source": [
        "print(dataset.shape)\n",
        "print(dataset.dtypes)\n",
        "print(dataset.columns)\n"
      ],
      "metadata": {
        "colab": {
          "base_uri": "https://localhost:8080/"
        },
        "id": "NfVJ8vY1Y7WN",
        "outputId": "bedbe579-f398-4a9e-e472-157555895852"
      },
      "execution_count": null,
      "outputs": [
        {
          "output_type": "stream",
          "name": "stdout",
          "text": [
            "(1000, 4)\n",
            "0              float64\n",
            "1.03915e-14    float64\n",
            "0.0639767      float64\n",
            "Unnamed: 3     float64\n",
            "dtype: object\n",
            "Index(['0', '1.03915e-14', '0.0639767', 'Unnamed: 3'], dtype='object')\n"
          ]
        }
      ]
    },
    {
      "cell_type": "code",
      "source": [
        "Time = dataset[\"0\"]\n",
        "V_t = dataset[\"1.03915e-14\"]\n",
        "I_t = dataset['0.0639767']\n",
        "\n",
        "plt.plot(Time,V_t)\n",
        "plt.plot(Time, I_t)\n",
        "plt.grid(\"on\")\n",
        "plt.xlabel(\"T (s)\")\n",
        "plt.legend([\"Volts\",\"Amps\"])"
      ],
      "metadata": {
        "colab": {
          "base_uri": "https://localhost:8080/",
          "height": 297
        },
        "id": "pi-ou48xH1r3",
        "outputId": "1f9a487d-7552-4aef-b526-d5db2741e8af"
      },
      "execution_count": null,
      "outputs": [
        {
          "output_type": "execute_result",
          "data": {
            "text/plain": [
              "<matplotlib.legend.Legend at 0x7fc0db74a550>"
            ]
          },
          "metadata": {},
          "execution_count": 14
        },
        {
          "output_type": "display_data",
          "data": {
            "text/plain": [
              "<Figure size 432x288 with 1 Axes>"
            ],
            "image/png": "[encoded data removed]"
          },
          "metadata": {
            "needs_background": "light"
          }
        }
      ]
    },
    {
      "cell_type": "markdown",
      "metadata": {
        "id": "2uq7_o-m1now"
      },
      "source": [
        "# Resultados y conclusiones"
      ]
    },
    {
      "cell_type": "markdown",
      "metadata": {
        "id": "WL-UTABg193O"
      },
      "source": [
        "**Conclusiones:**\n",
        "\n",
        "\n",
        "\n",
        "**Resultados:**\n",
        "\n",
        "**Referencias:**\n",
        "\n",
        "[Numerical Computing with MATLAB\n",
        "Copyright 2004, Cleve Moler. Introd.](https://www.mathworks.com/content/dam/mathworks/mathworks-dot-com/moler/intro.pdf)\n",
        "\n",
        "[Burde & Faires](https://udeaeduco.sharepoint.com/:b:/s/MtodosNumricos_2022-1/EQd1_32TgMhCh8MBU0FqxpIBSIjxSMEJKAcVIVyvYZHSng?e=nrWw8z)\n",
        "\n",
        "[Chapra & Canale](https://udeaeduco.sharepoint.com/:b:/s/MtodosNumricos_2022-1/EZgs5MpMDKtLpAZlwGEmn9oB3FvpAGncvlnWPcZ9wRNhIg?e=fPcsyf)\n",
        "\n",
        "[Kiusallas- NM with python ](https://udeaeduco.sharepoint.com/:b:/s/MtodosNumricos_2022-1/ESazTK0AHE5Pta-KrZ69VbUBds8rV7zE3pGtjjHiAO7-ig?e=07PVfI)"
      ]
    }
  ]
}