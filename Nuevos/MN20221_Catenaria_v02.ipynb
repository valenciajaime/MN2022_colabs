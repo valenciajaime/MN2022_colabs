{
  "nbformat": 4,
  "nbformat_minor": 0,
  "metadata": {
    "colab": {
      "provenance": [],
      "collapsed_sections": [],
      "toc_visible": true,
      "authorship_tag": "ABX9TyPUp3+uNI057bMDhzf749it",
      "include_colab_link": true
    },
    "kernelspec": {
      "name": "python3",
      "display_name": "Python 3"
    }
  },
  "cells": [
    {
      "cell_type": "markdown",
      "metadata": {
        "id": "view-in-github",
        "colab_type": "text"
      },
      "source": [
        "<a href=\"https://colab.research.google.com/github/valenciajaime/MN2022_colabs/blob/main/Nuevos/MN20221_Catenaria_v02.ipynb\" target=\"_parent\"><img src=\"https://colab.research.google.com/assets/colab-badge.svg\" alt=\"Open In Colab\"/></a>"
      ]
    },
    {
      "cell_type": "markdown",
      "metadata": {
        "id": "8jLsftGMFQWi"
      },
      "source": [
        "# Portada"
      ]
    },
    {
      "cell_type": "markdown",
      "metadata": {
        "id": "9gFVcos1FU4f"
      },
      "source": [
        "**Nombre:** \n",
        "\n",
        "Jaime A. Valencia\n",
        "\n",
        "Esteban Velilla\n",
        "\n",
        "**Email:**\n",
        "\n",
        "jalejandro.valencia@udea.edu.co\n",
        "\n",
        "esteban.velilla@udea.edu.co\n",
        "\n",
        "**Curso:**\n",
        "Metodos numericos\n",
        "\n",
        "**Fecha:**\n",
        "Martes 11 de octubre del 2022"
      ]
    },
    {
      "cell_type": "markdown",
      "metadata": {
        "id": "Wa6U8gSDFxZQ"
      },
      "source": [
        "# Descripcion"
      ]
    },
    {
      "cell_type": "markdown",
      "metadata": {
        "id": "hSk79-jyGF3Y"
      },
      "source": [
        "**Objetivos:**\n",
        "\n",
        "Solucion numerica de la ecuacion diferencial de segundo orden con condiciones de frontera que describe la curva Catenaria de un cable tendido entre 2 soportes. Metodo del disparo.\n",
        "Revision: martes 2022-oct-11\n",
        "\n",
        "**Desarrollo:**\n",
        "\n",
        "1.   Programacion de funcion\n",
        "2.   Solucion con Scipy\n",
        "3.   Representacion grafica\n"
      ]
    },
    {
      "cell_type": "markdown",
      "metadata": {
        "id": "VeZYwF6ukzcS"
      },
      "source": [
        "# Programacion de funcion\n",
        "\n"
      ]
    },
    {
      "cell_type": "markdown",
      "metadata": {
        "id": "XkV3qTDLl9bc"
      },
      "source": [
        "Cable tendido\n",
        "\n",
        "\n",
        "$ \\frac{d^{2}y}{dx^{2}} =  \\frac{w_{0}}{T_{0}}\\sqrt{1 + (\\frac{dy}{dx})^{2}}  $\n",
        "\n",
        "$y(0)= 185.0$\n",
        "\n",
        "$y(900) = 100.0$\n",
        "\n",
        "Cambio de variables para transformar la ED de orden 2 en una ED vectorial de orden 1.\n",
        "\n",
        "$ \\overline u = \\begin{bmatrix}u_{0}, & u_{1} \\ \\end{bmatrix}=\\begin{bmatrix}y, & y' \\ \\end{bmatrix} $\n",
        "\n",
        "$ \\frac{d}{dt}  \\overline u = \\begin{bmatrix}y', & y'' \\ \\end{bmatrix} = \\begin{bmatrix}u_{1}, & \\frac{w_{0}}{T_{0}}\\sqrt{1 + (\\frac{dy}{dx})^{2}}\\ \\end{bmatrix}$\n",
        "\n",
        "\n",
        "\n"
      ]
    },
    {
      "cell_type": "code",
      "metadata": {
        "id": "Dg9umIfWkl5j"
      },
      "source": [
        "import  matplotlib.pyplot as plt\n",
        "import numpy as np\n",
        "from scipy.integrate import odeint\n",
        "\n",
        "\n",
        "def FunCaten01(U, x,wo=40,To=50000):\n",
        "    \"\"\"U: funcion vectorial dependiente de x\n",
        "       x: variable independiente\n",
        "       U = [y, y']\n",
        "       \n",
        "    \"\"\"\n",
        "\n",
        "    uo = U[0] \n",
        "    u1 = U[1] \n",
        "    d_uo = u1\n",
        "    d_u1 = (wo/To)*np.sqrt(1+ u1**2)\n",
        "    res = np.array([d_uo, d_u1])\n",
        "    return res\n"
      ],
      "execution_count": 1,
      "outputs": []
    },
    {
      "cell_type": "markdown",
      "metadata": {
        "id": "sz5kuy-pm2cL"
      },
      "source": [
        "# Solucion con scipy"
      ]
    },
    {
      "cell_type": "code",
      "metadata": {
        "id": "kTGITXlvm7aq",
        "colab": {
          "base_uri": "https://localhost:8080/"
        },
        "outputId": "94928b64-b51a-408b-e3e5-71e8bcb442b1"
      },
      "source": [
        "#condiciones de frontera\n",
        "# condiciones de frontera\n",
        "# altura en 0 = 40    altura en 700 = 180\n",
        "\n",
        "#edicion de condiciones iniciales\n",
        "u_o = 185.0\n",
        "u_1 = -0.4678842197268268 ##esta condicion se debe variar hasta que \n",
        "        ##se cumpla la otra condicion de frontera \n",
        "        ## u_o(2)= 2.0\n",
        "Uo = [u_o, u_1]\n",
        "\n",
        "print('Condiciones iniciales ', Uo)\n",
        "\n",
        "##definir rango de solucion\n",
        "x_inicial = 0\n",
        "x_final= 900.0 #metros\n",
        "sample = 20\n",
        "X = np.linspace(x_inicial, x_final, sample)\n",
        "\n",
        "print('Solucion entre ',x_inicial,' y ',x_final)\n",
        "\n",
        "##Solucionar la ED\n",
        "y_sol = odeint(FunCaten01, Uo, X)\n",
        "\n",
        "print(\"Solucion de la ED y_sol\",y_sol.shape)\n",
        "print(\"u_o(2) - 2: \",y_sol[-1,0]-100)"
      ],
      "execution_count": 2,
      "outputs": [
        {
          "output_type": "stream",
          "name": "stdout",
          "text": [
            "Condiciones iniciales  [185.0, -0.4678842197268268]\n",
            "Solucion entre  0  y  900.0\n",
            "Solucion de la ED y_sol (20, 2)\n",
            "u_o(2) - 2:  -1.2988721209694631e-11\n"
          ]
        }
      ]
    },
    {
      "cell_type": "markdown",
      "metadata": {
        "id": "MAD_YnLmn6hm"
      },
      "source": [
        "# Representacion grafica"
      ]
    },
    {
      "cell_type": "code",
      "metadata": {
        "id": "JoJsT5feoF1P",
        "colab": {
          "base_uri": "https://localhost:8080/",
          "height": 295
        },
        "outputId": "2073d113-e4ff-4e95-d7d1-d674c98793c4"
      },
      "source": [
        "#Graficar resultados usando Matplotlib\n",
        "y_x = y_sol[:,0]\n",
        "#dy_t = y_sol[:,1]\n",
        "\n",
        "plt.figure(1)\n",
        "plt.plot(X, y_x,[X[0],X[-1]],[185,100],\"ro\")\n",
        "plt.legend([\"Solucion y(x)\",\"Cond. Frontera\"])\n",
        "plt.title('funcion y(x)')\n",
        "plt.xlabel('Eje de x')\n",
        "plt.ylabel('Eje de y')\n",
        "plt.grid(True)\n",
        "\n",
        "\n",
        "plt.show()"
      ],
      "execution_count": 3,
      "outputs": [
        {
          "output_type": "display_data",
          "data": {
            "text/plain": [
              "<Figure size 432x288 with 1 Axes>"
            ],
            "image/png": "[encoded data removed]"
          },
          "metadata": {
            "needs_background": "light"
          }
        }
      ]
    },
    {
      "cell_type": "markdown",
      "metadata": {
        "id": "kJwa2Ex_OFn-"
      },
      "source": [
        "# Metodo Busqueda de RAIZ"
      ]
    },
    {
      "cell_type": "code",
      "metadata": {
        "id": "V2euZLBwOsfO",
        "colab": {
          "base_uri": "https://localhost:8080/"
        },
        "outputId": "4447dae5-fac6-4cc0-ef23-b2488604a6a8"
      },
      "source": [
        "# Funcion de una sola variable\n",
        "# para cada valor u_1 calculo: u_o - c.frontera\n",
        "\n",
        "from scipy import optimize\n",
        "\n",
        "def RDisparo01(alfa):\n",
        "  u_o = 185.0\n",
        "  u_1 = alfa ##esta condicion se debe variar hasta que \n",
        "          ##se cumpla la otra condicion de frontera u_o(2)= 2.0\n",
        "  Uo = [u_o, u_1]\n",
        "  ##definir rango de solucion\n",
        "  t_inicial = 0; t_final= 900.0; sample = 20\n",
        "  T = np.linspace(t_inicial, t_final, sample)\n",
        "\n",
        "  ##Solucionar la ED\n",
        "  y_sol = odeint(FunCaten01, Uo, T)\n",
        "\n",
        "  error = y_sol[-1,0]- 100.0\n",
        "  return error\n",
        "\n",
        "##solucion con algoritmo de busqueda de raices escalares.\n",
        "\n",
        "Sol_disparo0 = optimize.newton(RDisparo01,0)\n",
        "Sol_disparo1 = optimize.root(RDisparo01,0)\n",
        "print(\"Newton: \",Sol_disparo0)\n",
        "print(\"root: \",Sol_disparo1.x)\n"
      ],
      "execution_count": null,
      "outputs": [
        {
          "output_type": "stream",
          "name": "stdout",
          "text": [
            "Newton:  -0.4678842197268268\n",
            "root:  [-0.46788422]\n"
          ]
        }
      ]
    },
    {
      "cell_type": "markdown",
      "source": [
        "# Lectura de archivo"
      ],
      "metadata": {
        "id": "k_phMwTCFtak"
      }
    },
    {
      "cell_type": "code",
      "source": [
        "Datos = np.loadtxt(\"Problema4_MN20221_MJ_P2.csv\",delimiter=\";\")"
      ],
      "metadata": {
        "id": "BliT4Bj4EsMF"
      },
      "execution_count": 4,
      "outputs": []
    },
    {
      "cell_type": "markdown",
      "source": [
        "Comparacion con resultados solucion."
      ],
      "metadata": {
        "id": "7Sl68xS_TmpA"
      }
    },
    {
      "cell_type": "code",
      "source": [
        "x_dato = Datos[:,0]\n",
        "y_dato = Datos[:,1]\n",
        "\n",
        "plt.plot(x_dato,y_dato,\"ro\")\n",
        "plt.plot(X, y_x,\"b*-\")\n",
        "plt.legend([\"Datos\",\"Modelo\"])\n",
        "plt.grid(\"on\")"
      ],
      "metadata": {
        "colab": {
          "base_uri": "https://localhost:8080/",
          "height": 265
        },
        "id": "cpRQV8yxF0b8",
        "outputId": "939f9b5f-2af2-4b1a-d4f9-c4d8f42eafa2"
      },
      "execution_count": 6,
      "outputs": [
        {
          "output_type": "display_data",
          "data": {
            "text/plain": [
              "<Figure size 432x288 with 1 Axes>"
            ],
            "image/png": "[encoded data removed]"
          },
          "metadata": {
            "needs_background": "light"
          }
        }
      ]
    },
    {
      "cell_type": "markdown",
      "source": [
        "# Solucion Exacta"
      ],
      "metadata": {
        "id": "mrnivT1aTxBF"
      }
    },
    {
      "cell_type": "markdown",
      "source": [
        "Funcion solucion de la catenaria"
      ],
      "metadata": {
        "id": "BnQ3c8HSXFbd"
      }
    },
    {
      "cell_type": "code",
      "source": [
        "def Catenaria_E01(x, wo=40,To=50000, C1=0, C2=0):\n",
        "  \"\"\"Funcion de la catenaria.\n",
        "     Solucion exacta de la ecuacion diferencia\n",
        "  \"\"\"\n",
        "  k1 = To/wo\n",
        "  k2 = wo/To\n",
        "  y_o = k1*(np.cosh(k2*x + C1) + C2)\n",
        "  return y_o"
      ],
      "metadata": {
        "id": "FRs8k9PmWsGN"
      },
      "execution_count": null,
      "outputs": []
    },
    {
      "cell_type": "markdown",
      "source": [
        "Comparacion de la catenaria variando parametros de la funcion."
      ],
      "metadata": {
        "id": "Q5zTo1dUXOZ2"
      }
    },
    {
      "cell_type": "code",
      "source": [
        "\n",
        "\n",
        "Y_modelo = Catenaria_E01(x_dato,wo=40, To=50000, C1=-0.5, C2=-.95)\n",
        "\n",
        "plt.plot(x_dato,y_dato,\"ro\")\n",
        "plt.plot(X, y_x,\"b*-\")\n",
        "plt.plot(x_dato, Y_modelo, \"ko\")\n",
        "plt.legend([\"Datos\",\"Modelo EDO\",\"Exacta\"])\n",
        "plt.grid(\"on\")"
      ],
      "metadata": {
        "colab": {
          "base_uri": "https://localhost:8080/",
          "height": 265
        },
        "id": "v7AxbgffUEuS",
        "outputId": "9a58ce3b-cd17-48bd-d6e4-90dbce436a80"
      },
      "execution_count": 25,
      "outputs": [
        {
          "output_type": "display_data",
          "data": {
            "text/plain": [
              "<Figure size 432x288 with 1 Axes>"
            ],
            "image/png": "[encoded data removed]"
          },
          "metadata": {
            "needs_background": "light"
          }
        }
      ]
    },
    {
      "cell_type": "code",
      "source": [
        "from scipy.integrate._ivp.radau import E\n",
        "#Funcion de error usando Catenaria exacta\n",
        "from scipy import optimize\n",
        "\n",
        "def Error_Cat01(X, x_md, y_md):\n",
        "  \"\"\"X=[wo, To, C1, C2]\n",
        "     k1 = To/wo\n",
        "     k2 = wo/To\n",
        "     y_o = k1*(np.cosh(k2*x + C1) + C2)##Catenaria_E01()\n",
        "     \n",
        "     x_md: lista datos de las medidas en x\n",
        "     y_md: lista\n",
        "\n",
        "  \"\"\"\n",
        "  W,T,c1,c2 = X\n",
        "\n",
        "  Y_modelo = Catenaria_E01(x_md,wo=W,To=T,C1=c1, C2=c2)\n",
        "  \n",
        "  #calculo error cuadratico medio\n",
        "  NN = len(x_md)\n",
        "  er1=0\n",
        "  for q in range(NN):\n",
        "    ei2 = (Y_modelo[q]-y_md[q])**2\n",
        "    er1 = er1 + ei2\n",
        "\n",
        "  sme = er1/NN \n",
        "  return sme\n"
      ],
      "metadata": {
        "id": "yrQFff7-XbpM"
      },
      "execution_count": 26,
      "outputs": []
    },
    {
      "cell_type": "code",
      "source": [
        "Res = optimize.minimize(Error_Cat01,[2,2500,-0.5, -1],(x_dato, y_dato))\n"
      ],
      "metadata": {
        "id": "ubyFwqOAaRba"
      },
      "execution_count": 50,
      "outputs": []
    },
    {
      "cell_type": "code",
      "source": [
        "print(\"resultado[w,T,c1,c2]: \",Res.x)\n",
        "Y_modelo = Catenaria_E01(x_dato,*Res.x)\n",
        "\n",
        "plt.plot(x_dato,y_dato,\"ro\")\n",
        "plt.plot(X, y_x,\"b*-\")\n",
        "plt.plot(x_dato, Y_modelo, \"ko\")\n",
        "plt.legend([\"Datos\",\"Modelo EDO\",\"Exacta\"])\n",
        "plt.grid(\"on\")"
      ],
      "metadata": {
        "colab": {
          "base_uri": "https://localhost:8080/",
          "height": 282
        },
        "id": "RDL5nfnBbKJA",
        "outputId": "ba01df42-eebf-485c-8e7b-480a8738cd25"
      },
      "execution_count": 51,
      "outputs": [
        {
          "output_type": "stream",
          "name": "stdout",
          "text": [
            "resultado[w,T,c1,c2]:  [ 2.00000219e+00  2.50000115e+03 -4.52303761e-01 -9.56045093e-01]\n"
          ]
        },
        {
          "output_type": "display_data",
          "data": {
            "text/plain": [
              "<Figure size 432x288 with 1 Axes>"
            ],
            "image/png": "[encoded data removed]"
          },
          "metadata": {
            "needs_background": "light"
          }
        }
      ]
    },
    {
      "cell_type": "markdown",
      "metadata": {
        "id": "pmlyZWWlRS4U"
      },
      "source": [
        "# Resultados y conclusiones"
      ]
    },
    {
      "cell_type": "markdown",
      "metadata": {
        "id": "7BmiMzI5RXRZ"
      },
      "source": [
        "**Resultados y analisis:**\n",
        "\n",
        "\n",
        "**Conclusiones:**\n",
        "\n",
        "\n",
        "**Referencias:**\n",
        "\n",
        "[Odeint](https://docs.scipy.org/doc/scipy/reference/generated/scipy.integrate.odeint.html)\n",
        "\n",
        "[Burden&Faires 9ed](https://fac.ksu.edu.sa/sites/default/files/numerical_analysis_9th.pdf)\n",
        "\n",
        "[Scipy-optim](https://docs.scipy.org/doc/scipy/reference/tutorial/optimize.html)"
      ]
    }
  ]
}