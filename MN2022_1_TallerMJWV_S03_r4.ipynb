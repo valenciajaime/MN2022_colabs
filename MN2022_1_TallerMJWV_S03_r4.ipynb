{
  "nbformat": 4,
  "nbformat_minor": 0,
  "metadata": {
    "colab": {
      "name": "MN2022_1-TallerMJWV_S03_r4.ipynb",
      "provenance": [],
      "collapsed_sections": [],
      "toc_visible": true,
      "include_colab_link": true
    },
    "kernelspec": {
      "name": "python3",
      "display_name": "Python 3"
    },
    "language_info": {
      "name": "python"
    }
  },
  "cells": [
    {
      "cell_type": "markdown",
      "metadata": {
        "id": "view-in-github",
        "colab_type": "text"
      },
      "source": [
        "<a href=\"https://colab.research.google.com/github/valenciajaime/MN2022_colabs/blob/main/MN2022_1_TallerMJWV_S03_r4.ipynb\" target=\"_parent\"><img src=\"https://colab.research.google.com/assets/colab-badge.svg\" alt=\"Open In Colab\"/></a>"
      ]
    },
    {
      "cell_type": "markdown",
      "metadata": {
        "id": "7NkmQP8zvk3c"
      },
      "source": [
        "# Portada Taller MJWVS03"
      ]
    },
    {
      "cell_type": "markdown",
      "metadata": {
        "id": "-LmFfnJ5vt2H"
      },
      "source": [
        "**Nombres:** \n",
        "\n",
        "\n",
        "\n",
        "**Email:**\n",
        "\n",
        "\n",
        "**Curso:**\n",
        "Metodos numericos 2022-1 WV\n",
        "\n",
        "**Fecha:**\n",
        "Jueves 2022-junio-09\n",
        "\n",
        "**Fecha ultima Edicion:**\n",
        "Jueves 2022-junio-16\n"
      ]
    },
    {
      "cell_type": "markdown",
      "metadata": {
        "id": "T7cD2HZWwW0v"
      },
      "source": [
        "# Descripción"
      ]
    },
    {
      "cell_type": "markdown",
      "metadata": {
        "id": "YrL9ny-swbsu"
      },
      "source": [
        "**Objetivos:**\n",
        "\n",
        "Taller de seguimiento sobre explorcion de datos.\n",
        "\n",
        "\n",
        "**Ejemplos incluidos:**\n",
        "\n",
        "\n",
        "\n",
        "1.   Lectura de archivos originales\n",
        "\n",
        "   \n",
        "\n",
        "\n",
        "\n",
        "\n"
      ]
    },
    {
      "cell_type": "markdown",
      "source": [
        "# Importacion Modulos"
      ],
      "metadata": {
        "id": "zulNqH1LvIwn"
      }
    },
    {
      "cell_type": "code",
      "source": [
        "import pylab as plt\n",
        "import matplotlib\n",
        "import numpy as np\n",
        "import scipy as SC\n",
        "import sympy as SP\n",
        "\n",
        "print(\"Version numpy: \",np.__version__)\n",
        "print(\"Version Matplotlib: \",matplotlib.__version__)\n",
        "print(\"Version scipy: \", SC.__version__)\n",
        "print(\"Version sympy: \",  SP.__version__)"
      ],
      "metadata": {
        "id": "SvK8axp7FEJm",
        "colab": {
          "base_uri": "https://localhost:8080/"
        },
        "outputId": "89bb81df-3024-4af5-c7bd-3ea0caabbb97"
      },
      "execution_count": null,
      "outputs": [
        {
          "output_type": "stream",
          "name": "stdout",
          "text": [
            "Version numpy:  1.21.6\n",
            "Version Matplotlib:  3.2.2\n",
            "Version scipy:  1.4.1\n",
            "Version sympy:  1.7.1\n"
          ]
        }
      ]
    },
    {
      "cell_type": "markdown",
      "source": [
        "# Lectura de archivos (open)"
      ],
      "metadata": {
        "id": "Y9lbBguviz4m"
      }
    },
    {
      "cell_type": "code",
      "source": [
        "#Funcion de lectura\n",
        "def Leer_VRdat(fnombre):\n",
        "    \"\"\"fnombre: str nombre de archivo\n",
        "       Lectura de datos\n",
        "       Se asumen datos en 2 columnas separados por ;\n",
        "       tiempo: Columna 1\n",
        "       Valor: Columna 2\n",
        "       los decimales son \",\"\n",
        "       Retorna 2 array\n",
        "    \"\"\"\n",
        "    Datos = open(fnombre,\"r\")\n",
        "    Datos.readline()#encabezado linea inicial\n",
        "    D_t = []\n",
        "    D_v = []\n",
        "\n",
        "    for q in Datos:\n",
        "        a= q.replace('\\n','').replace(',','.').split(';')\n",
        "        D_t.append(float(a[0]))\n",
        "        D_v.append(float(a[1]))\n",
        "    Datos.close()\n",
        "    D_t = np.array(D_t)\n",
        "    D_v = np.array(D_v)\n",
        "    return D_t, D_v\n"
      ],
      "metadata": {
        "id": "9kqwKeuNvYRc"
      },
      "execution_count": null,
      "outputs": []
    },
    {
      "cell_type": "code",
      "source": [
        "#grafico de datos\n",
        "a_in1 = \"MN_archi01.csv\"\n",
        "a_in2 = \"MN_archi02.csv\"\n",
        "\n",
        "t_in1,v_in1 = Leer_VRdat(a_in1)\n",
        "t_in2,v_in2 =Leer_VRdat(a_in2)\n",
        "\n",
        "plt.figure(1)\n",
        "plt.plot(t_in2,v_in2)\n",
        "plt.grid(\"on\")\n",
        "plt.title(\"Señal IN\")\n",
        "print(len(v_in1),np.average(v_in1))\n",
        "print(len(v_in2),np.average(v_in2))"
      ],
      "metadata": {
        "colab": {
          "base_uri": "https://localhost:8080/",
          "height": 316
        },
        "id": "GmuZOm35vkFM",
        "outputId": "126d325f-c7fe-4179-ca4e-5d76904d83c9"
      },
      "execution_count": null,
      "outputs": [
        {
          "output_type": "stream",
          "name": "stdout",
          "text": [
            "40885 0.40857776471294244\n",
            "40885 0.917925722881668\n"
          ]
        },
        {
          "output_type": "display_data",
          "data": {
            "text/plain": [
              "<Figure size 432x288 with 1 Axes>"
            ],
            "image/png": "[encoded data removed]"
          },
          "metadata": {
            "needs_background": "light"
          }
        }
      ]
    },
    {
      "cell_type": "markdown",
      "source": [
        "# Luisa C. Rodriguez (pandas)"
      ],
      "metadata": {
        "id": "bONWpUhCkGkV"
      }
    },
    {
      "cell_type": "code",
      "source": [
        "import pandas as pd\n",
        "data_frame = pd.read_csv('MN_archi01.csv', sep=';')#lectura\n",
        "data_frame[\"SA\"] = data_frame[\"SA\"].replace(\",\", \".\",regex = True)#reemplaza , por . en decimales\n",
        "data_frame[\"Unnamed: 1\"] = data_frame[\"Unnamed: 1\"].replace(\",\", \".\", regex = True)\n",
        "\n",
        "data_frame['SA'] = data_frame['SA'].astype(float)#conversion a numericos\n",
        "data_frame['Unnamed: 1'] = data_frame['Unnamed: 1'].astype(float)\n",
        "\n",
        "data_frame.describe()#estadistica descriptiva"
      ],
      "metadata": {
        "colab": {
          "base_uri": "https://localhost:8080/",
          "height": 300
        },
        "id": "wT_BrBoTw40v",
        "outputId": "4ae12073-6258-4c3f-e960-5eed2292d0aa"
      },
      "execution_count": null,
      "outputs": [
        {
          "output_type": "execute_result",
          "data": {
            "text/plain": [
              "                 SA    Unnamed: 1\n",
              "count  40885.000000  4.088500e+04\n",
              "mean     204.398399  4.085778e-01\n",
              "std      118.013540  2.666434e-01\n",
              "min        0.000000  1.570000e-10\n",
              "25%      102.199511  1.571161e-01\n",
              "50%      204.397994  4.000000e-01\n",
              "75%      306.597009  6.635996e-01\n",
              "max      408.796509  8.000000e-01"
            ],
            "text/html": [
              "\n",
              "  <div id=\"df-9d2a8a65-bc7d-4406-bd55-2cc067d6640e\">\n",
              "    <div class=\"colab-df-container\">\n",
              "      <div>\n",
              "<style scoped>\n",
              "    .dataframe tbody tr th:only-of-type {\n",
              "        vertical-align: middle;\n",
              "    }\n",
              "\n",
              "    .dataframe tbody tr th {\n",
              "        vertical-align: top;\n",
              "    }\n",
              "\n",
              "    .dataframe thead th {\n",
              "        text-align: right;\n",
              "    }\n",
              "</style>\n",
              "<table border=\"1\" class=\"dataframe\">\n",
              "  <thead>\n",
              "    <tr style=\"text-align: right;\">\n",
              "      <th></th>\n",
              "      <th>SA</th>\n",
              "      <th>Unnamed: 1</th>\n",
              "    </tr>\n",
              "  </thead>\n",
              "  <tbody>\n",
              "    <tr>\n",
              "      <th>count</th>\n",
              "      <td>40885.000000</td>\n",
              "      <td>4.088500e+04</td>\n",
              "    </tr>\n",
              "    <tr>\n",
              "      <th>mean</th>\n",
              "      <td>204.398399</td>\n",
              "      <td>4.085778e-01</td>\n",
              "    </tr>\n",
              "    <tr>\n",
              "      <th>std</th>\n",
              "      <td>118.013540</td>\n",
              "      <td>2.666434e-01</td>\n",
              "    </tr>\n",
              "    <tr>\n",
              "      <th>min</th>\n",
              "      <td>0.000000</td>\n",
              "      <td>1.570000e-10</td>\n",
              "    </tr>\n",
              "    <tr>\n",
              "      <th>25%</th>\n",
              "      <td>102.199511</td>\n",
              "      <td>1.571161e-01</td>\n",
              "    </tr>\n",
              "    <tr>\n",
              "      <th>50%</th>\n",
              "      <td>204.397994</td>\n",
              "      <td>4.000000e-01</td>\n",
              "    </tr>\n",
              "    <tr>\n",
              "      <th>75%</th>\n",
              "      <td>306.597009</td>\n",
              "      <td>6.635996e-01</td>\n",
              "    </tr>\n",
              "    <tr>\n",
              "      <th>max</th>\n",
              "      <td>408.796509</td>\n",
              "      <td>8.000000e-01</td>\n",
              "    </tr>\n",
              "  </tbody>\n",
              "</table>\n",
              "</div>\n",
              "      <button class=\"colab-df-convert\" onclick=\"convertToInteractive('df-9d2a8a65-bc7d-4406-bd55-2cc067d6640e')\"\n",
              "              title=\"Convert this dataframe to an interactive table.\"\n",
              "              style=\"display:none;\">\n",
              "        \n",
              "  <svg xmlns=\"http://www.w3.org/2000/svg\" height=\"24px\"viewBox=\"0 0 24 24\"\n",
              "       width=\"24px\">\n",
              "    <path d=\"M0 0h24v24H0V0z\" fill=\"none\"/>\n",
              "    <path d=\"M18.56 5.44l.94 2.06.94-2.06 2.06-.94-2.06-.94-.94-2.06-.94 2.06-2.06.94zm-11 1L8.5 8.5l.94-2.06 2.06-.94-2.06-.94L8.5 2.5l-.94 2.06-2.06.94zm10 10l.94 2.06.94-2.06 2.06-.94-2.06-.94-.94-2.06-.94 2.06-2.06.94z\"/><path d=\"M17.41 7.96l-1.37-1.37c-.4-.4-.92-.59-1.43-.59-.52 0-1.04.2-1.43.59L10.3 9.45l-7.72 7.72c-.78.78-.78 2.05 0 2.83L4 21.41c.39.39.9.59 1.41.59.51 0 1.02-.2 1.41-.59l7.78-7.78 2.81-2.81c.8-.78.8-2.07 0-2.86zM5.41 20L4 18.59l7.72-7.72 1.47 1.35L5.41 20z\"/>\n",
              "  </svg>\n",
              "      </button>\n",
              "      \n",
              "  <style>\n",
              "    .colab-df-container {\n",
              "      display:flex;\n",
              "      flex-wrap:wrap;\n",
              "      gap: 12px;\n",
              "    }\n",
              "\n",
              "    .colab-df-convert {\n",
              "      background-color: #E8F0FE;\n",
              "      border: none;\n",
              "      border-radius: 50%;\n",
              "      cursor: pointer;\n",
              "      display: none;\n",
              "      fill: #1967D2;\n",
              "      height: 32px;\n",
              "      padding: 0 0 0 0;\n",
              "      width: 32px;\n",
              "    }\n",
              "\n",
              "    .colab-df-convert:hover {\n",
              "      background-color: #E2EBFA;\n",
              "      box-shadow: 0px 1px 2px rgba(60, 64, 67, 0.3), 0px 1px 3px 1px rgba(60, 64, 67, 0.15);\n",
              "      fill: #174EA6;\n",
              "    }\n",
              "\n",
              "    [theme=dark] .colab-df-convert {\n",
              "      background-color: #3B4455;\n",
              "      fill: #D2E3FC;\n",
              "    }\n",
              "\n",
              "    [theme=dark] .colab-df-convert:hover {\n",
              "      background-color: #434B5C;\n",
              "      box-shadow: 0px 1px 3px 1px rgba(0, 0, 0, 0.15);\n",
              "      filter: drop-shadow(0px 1px 2px rgba(0, 0, 0, 0.3));\n",
              "      fill: #FFFFFF;\n",
              "    }\n",
              "  </style>\n",
              "\n",
              "      <script>\n",
              "        const buttonEl =\n",
              "          document.querySelector('#df-9d2a8a65-bc7d-4406-bd55-2cc067d6640e button.colab-df-convert');\n",
              "        buttonEl.style.display =\n",
              "          google.colab.kernel.accessAllowed ? 'block' : 'none';\n",
              "\n",
              "        async function convertToInteractive(key) {\n",
              "          const element = document.querySelector('#df-9d2a8a65-bc7d-4406-bd55-2cc067d6640e');\n",
              "          const dataTable =\n",
              "            await google.colab.kernel.invokeFunction('convertToInteractive',\n",
              "                                                     [key], {});\n",
              "          if (!dataTable) return;\n",
              "\n",
              "          const docLinkHtml = 'Like what you see? Visit the ' +\n",
              "            '<a target=\"_blank\" href=https://colab.research.google.com/notebooks/data_table.ipynb>data table notebook</a>'\n",
              "            + ' to learn more about interactive tables.';\n",
              "          element.innerHTML = '';\n",
              "          dataTable['output_type'] = 'display_data';\n",
              "          await google.colab.output.renderOutput(dataTable, element);\n",
              "          const docLink = document.createElement('div');\n",
              "          docLink.innerHTML = docLinkHtml;\n",
              "          element.appendChild(docLink);\n",
              "        }\n",
              "      </script>\n",
              "    </div>\n",
              "  </div>\n",
              "  "
            ]
          },
          "metadata": {},
          "execution_count": 8
        }
      ]
    },
    {
      "cell_type": "code",
      "source": [
        "#Histogramas columna 1\n",
        "data_frame[\"SA\"].hist()\n",
        "plt.plot()"
      ],
      "metadata": {
        "colab": {
          "base_uri": "https://localhost:8080/",
          "height": 282
        },
        "id": "Bkwe39RRnK1R",
        "outputId": "888024a6-49cf-42e0-a1e7-fb7be42b943c"
      },
      "execution_count": null,
      "outputs": [
        {
          "output_type": "execute_result",
          "data": {
            "text/plain": [
              "[]"
            ]
          },
          "metadata": {},
          "execution_count": 9
        },
        {
          "output_type": "display_data",
          "data": {
            "text/plain": [
              "<Figure size 432x288 with 1 Axes>"
            ],
            "image/png": "[encoded data removed]"
          },
          "metadata": {
            "needs_background": "light"
          }
        }
      ]
    },
    {
      "cell_type": "code",
      "source": [
        "#Histogramas columna 2\n",
        "data_frame[\"Unnamed: 1\"].hist()\n",
        "plt.plot()\n",
        "type(data_frame)\n"
      ],
      "metadata": {
        "colab": {
          "base_uri": "https://localhost:8080/",
          "height": 283
        },
        "id": "cxopJwJNmyFJ",
        "outputId": "515cbe32-3016-44b1-c8d8-72eecebe2639"
      },
      "execution_count": null,
      "outputs": [
        {
          "output_type": "execute_result",
          "data": {
            "text/plain": [
              "pandas.core.frame.DataFrame"
            ]
          },
          "metadata": {},
          "execution_count": 9
        },
        {
          "output_type": "display_data",
          "data": {
            "text/plain": [
              "<Figure size 432x288 with 1 Axes>"
            ],
            "image/png": "[encoded data removed]"
          },
          "metadata": {
            "needs_background": "light"
          }
        }
      ]
    },
    {
      "cell_type": "markdown",
      "source": [
        "# Camilo Andres Moreno Rojas(pandas)"
      ],
      "metadata": {
        "id": "zRJoLAFdn8qU"
      }
    },
    {
      "cell_type": "code",
      "source": [
        "import pandas as pd\n",
        "import matplotlib.pyplot as plt\n",
        "\n",
        "\n",
        "datos = pd.read_csv(\"MN_archi01.csv\", sep = \";\", decimal = \",\")#lectura de datos\n",
        "\n",
        "m = datos[\"SA\"].tolist()\n",
        "n = datos[\"Unnamed: 1\"].tolist()\n",
        "\n",
        "n1 = min(n) \n",
        "n2 = n.index(n1)\n",
        "n3 = m[n2]\n",
        "print(\"Punto mínimo en\",\"(\",n1,\",\",n2,\")\")\n",
        "\n",
        "m1= max(n)\n",
        "m2 = n.index(m1)\n",
        "m3 = m[m2]\n",
        "print(\"Punto máximo en\",\"(\",m1,\",\",m2,\")\")\n",
        "\n",
        "\n",
        "\n",
        "plt.plot(m,n)\n",
        "plt.title(\"Grafica de datos \")\n",
        "plt.xlabel(\"X\")\n",
        "plt.ylabel(\"Y\")"
      ],
      "metadata": {
        "colab": {
          "base_uri": "https://localhost:8080/",
          "height": 347
        },
        "id": "pV_yiN-MoCWQ",
        "outputId": "e247b312-379b-4925-c844-ca9b1735620f"
      },
      "execution_count": null,
      "outputs": [
        {
          "output_type": "stream",
          "name": "stdout",
          "text": [
            "Punto mínimo en ( 1.57e-10 , 20634 )\n",
            "Punto máximo en ( 0.8 , 9389 )\n"
          ]
        },
        {
          "output_type": "execute_result",
          "data": {
            "text/plain": [
              "Text(0, 0.5, 'Y')"
            ]
          },
          "metadata": {},
          "execution_count": 6
        },
        {
          "output_type": "display_data",
          "data": {
            "text/plain": [
              "<Figure size 432x288 with 1 Axes>"
            ],
            "image/png": "[encoded data removed]"
          },
          "metadata": {
            "needs_background": "light"
          }
        }
      ]
    },
    {
      "cell_type": "code",
      "source": [
        "type(datos)\n",
        "datos."
      ],
      "metadata": {
        "colab": {
          "base_uri": "https://localhost:8080/"
        },
        "id": "dF8vw8cg2mT0",
        "outputId": "53882a44-9bf5-4104-88d9-7177b193c6c0"
      },
      "execution_count": null,
      "outputs": [
        {
          "output_type": "execute_result",
          "data": {
            "text/plain": [
              "pandas.core.frame.DataFrame"
            ]
          },
          "metadata": {},
          "execution_count": 7
        }
      ]
    },
    {
      "cell_type": "markdown",
      "source": [
        "# Samuel Aristizabal (open)"
      ],
      "metadata": {
        "id": "MK0yES-VwCy0"
      }
    },
    {
      "cell_type": "code",
      "source": [
        "## se cambia el argumento de entrada de la funcion original\n",
        "\n",
        "def file_read(key_name):    \n",
        "    \"\"\"  \n",
        "    Parameters\n",
        "    ----------\n",
        "    key_name : STR \n",
        "        Valor correspondiente al archivo sleccionado.\n",
        "\n",
        "    Returns\n",
        "    -------\n",
        "    dato1: LIST\n",
        "        Lista con los datos de la primer columna\n",
        "    dato2: LIST\n",
        "        Lista con los datos de la segunda columna\n",
        "    \"\"\"\n",
        "    \n",
        "    file = open(key_name)\n",
        "    enca = file.readline() #(Lee el encabezado para no tener problemas con el contenido   )\n",
        "  \n",
        "    dato1 = []\n",
        "    dato2 = []\n",
        "    \n",
        "     # Separamos los datos CSV para optener dos valores por ciclo\n",
        "    for line in file: \n",
        "        #Separamos por ; los datos del archivo\n",
        "        tmp = line.split(\";\")  \n",
        "        # Cambiamos las comas por puntos para poder pasar a float\n",
        "        dato1.append(float(tmp[0].replace(\",\",\".\"))) \n",
        "        dato2.append(float(tmp[1].replace(\",\",\".\")))\n",
        "    file.close()\n",
        "    return(dato1,dato2)\n",
        "\n",
        "# Graficamos los datos\n",
        "Archi= \"MN_archi01.csv\"\n",
        "x = file_read( Archi)[0]\n",
        "y = file_read(Archi)[1]\n",
        "plt.figure(1)\n",
        "plt.title(\"Grafica archivo: \"+Archi)\n",
        "plt.plot(x,y)\n",
        "plt.show\n",
        "\n"
      ],
      "metadata": {
        "colab": {
          "base_uri": "https://localhost:8080/",
          "height": 298
        },
        "id": "VJK4h_r9wPF0",
        "outputId": "d5915691-5448-4b04-ce0e-fc12cfb0f2d6"
      },
      "execution_count": null,
      "outputs": [
        {
          "output_type": "execute_result",
          "data": {
            "text/plain": [
              "<function matplotlib.pyplot.show>"
            ]
          },
          "metadata": {},
          "execution_count": 4
        },
        {
          "output_type": "display_data",
          "data": {
            "text/plain": [
              "<Figure size 432x288 with 1 Axes>"
            ],
            "image/png": "[encoded data removed]"
          },
          "metadata": {
            "needs_background": "light"
          }
        }
      ]
    },
    {
      "cell_type": "code",
      "source": [
        "#help(file_read)\n",
        "#ejemplo de class\n",
        "\n",
        "class Samuel:\n",
        "  def __init__(self,a):\n",
        "    \"\"\"contructor de iniciacion\n",
        "    \"\"\"\n",
        "    self.A = a\n",
        "    self.B = 45\n",
        "    return\n",
        "  def SMetodo1(self,c):\n",
        "    \"\"\"metodo que suma atributos\n",
        "    \"\"\"\n",
        "    r = c + self.A + self.B\n",
        "    self.R = r\n",
        "    return r\n",
        "    \n",
        "\n",
        "tt = Samuel(32)\n",
        "\n",
        "print(\"atributos: \",tt.A, tt.B)\n",
        "\n",
        "x1 = tt.SMetodo1(0)\n",
        "print(\"Salida Metodo: \",x1)\n",
        "tt.R"
      ],
      "metadata": {
        "colab": {
          "base_uri": "https://localhost:8080/"
        },
        "id": "scZujQyW1o39",
        "outputId": "906f9606-3ef1-4fad-d798-e7745a99beac"
      },
      "execution_count": null,
      "outputs": [
        {
          "output_type": "stream",
          "name": "stdout",
          "text": [
            "atributos:  32 45\n",
            "Salida Metodo:  77\n"
          ]
        },
        {
          "output_type": "execute_result",
          "data": {
            "text/plain": [
              "77"
            ]
          },
          "metadata": {},
          "execution_count": 22
        }
      ]
    },
    {
      "cell_type": "markdown",
      "source": [
        "# MARIA NATALIA JIMENEZ LOPEZ (pandas)"
      ],
      "metadata": {
        "id": "VgXqW-W-YBfy"
      }
    },
    {
      "cell_type": "code",
      "source": [
        "#Import Libraries\n",
        "import pandas as pd\n",
        "import numpy as np\n",
        "import matplotlib.pyplot as plt\n",
        "\n",
        "\n",
        "#lectura de datos\n",
        "dataset = pd.read_csv(\"/content/MN_archi01.csv\",sep=\";\", error_bad_lines=False)\n",
        "\n",
        "print(\"Objeto: \",type(dataset))"
      ],
      "metadata": {
        "colab": {
          "base_uri": "https://localhost:8080/"
        },
        "id": "WfmkallPYRVQ",
        "outputId": "d8218b15-991e-4fa7-adf8-56c80317848c"
      },
      "execution_count": null,
      "outputs": [
        {
          "output_type": "stream",
          "name": "stdout",
          "text": [
            "Objeto:  <class 'pandas.core.frame.DataFrame'>\n"
          ]
        },
        {
          "output_type": "stream",
          "name": "stderr",
          "text": [
            "/usr/local/lib/python3.7/dist-packages/IPython/core/interactiveshell.py:2882: FutureWarning: The error_bad_lines argument has been deprecated and will be removed in a future version.\n",
            "\n",
            "\n",
            "  exec(code_obj, self.user_global_ns, self.user_ns)\n"
          ]
        }
      ]
    },
    {
      "cell_type": "code",
      "source": [
        "dataset.head()"
      ],
      "metadata": {
        "colab": {
          "base_uri": "https://localhost:8080/",
          "height": 206
        },
        "id": "CGjtCLpCYzaQ",
        "outputId": "f0922eee-85d9-4091-f9ed-44212f97f716"
      },
      "execution_count": null,
      "outputs": [
        {
          "output_type": "execute_result",
          "data": {
            "text/plain": [
              "       SA Unnamed: 1\n",
              "0       0        0,4\n",
              "1    0,01        0,4\n",
              "2  0,0205        0,4\n",
              "3    0,03        0,4\n",
              "4    0,04        0,4"
            ],
            "text/html": [
              "\n",
              "  <div id=\"df-93598d76-5720-4c7d-96f7-746a88da4bef\">\n",
              "    <div class=\"colab-df-container\">\n",
              "      <div>\n",
              "<style scoped>\n",
              "    .dataframe tbody tr th:only-of-type {\n",
              "        vertical-align: middle;\n",
              "    }\n",
              "\n",
              "    .dataframe tbody tr th {\n",
              "        vertical-align: top;\n",
              "    }\n",
              "\n",
              "    .dataframe thead th {\n",
              "        text-align: right;\n",
              "    }\n",
              "</style>\n",
              "<table border=\"1\" class=\"dataframe\">\n",
              "  <thead>\n",
              "    <tr style=\"text-align: right;\">\n",
              "      <th></th>\n",
              "      <th>SA</th>\n",
              "      <th>Unnamed: 1</th>\n",
              "    </tr>\n",
              "  </thead>\n",
              "  <tbody>\n",
              "    <tr>\n",
              "      <th>0</th>\n",
              "      <td>0</td>\n",
              "      <td>0,4</td>\n",
              "    </tr>\n",
              "    <tr>\n",
              "      <th>1</th>\n",
              "      <td>0,01</td>\n",
              "      <td>0,4</td>\n",
              "    </tr>\n",
              "    <tr>\n",
              "      <th>2</th>\n",
              "      <td>0,0205</td>\n",
              "      <td>0,4</td>\n",
              "    </tr>\n",
              "    <tr>\n",
              "      <th>3</th>\n",
              "      <td>0,03</td>\n",
              "      <td>0,4</td>\n",
              "    </tr>\n",
              "    <tr>\n",
              "      <th>4</th>\n",
              "      <td>0,04</td>\n",
              "      <td>0,4</td>\n",
              "    </tr>\n",
              "  </tbody>\n",
              "</table>\n",
              "</div>\n",
              "      <button class=\"colab-df-convert\" onclick=\"convertToInteractive('df-93598d76-5720-4c7d-96f7-746a88da4bef')\"\n",
              "              title=\"Convert this dataframe to an interactive table.\"\n",
              "              style=\"display:none;\">\n",
              "        \n",
              "  <svg xmlns=\"http://www.w3.org/2000/svg\" height=\"24px\"viewBox=\"0 0 24 24\"\n",
              "       width=\"24px\">\n",
              "    <path d=\"M0 0h24v24H0V0z\" fill=\"none\"/>\n",
              "    <path d=\"M18.56 5.44l.94 2.06.94-2.06 2.06-.94-2.06-.94-.94-2.06-.94 2.06-2.06.94zm-11 1L8.5 8.5l.94-2.06 2.06-.94-2.06-.94L8.5 2.5l-.94 2.06-2.06.94zm10 10l.94 2.06.94-2.06 2.06-.94-2.06-.94-.94-2.06-.94 2.06-2.06.94z\"/><path d=\"M17.41 7.96l-1.37-1.37c-.4-.4-.92-.59-1.43-.59-.52 0-1.04.2-1.43.59L10.3 9.45l-7.72 7.72c-.78.78-.78 2.05 0 2.83L4 21.41c.39.39.9.59 1.41.59.51 0 1.02-.2 1.41-.59l7.78-7.78 2.81-2.81c.8-.78.8-2.07 0-2.86zM5.41 20L4 18.59l7.72-7.72 1.47 1.35L5.41 20z\"/>\n",
              "  </svg>\n",
              "      </button>\n",
              "      \n",
              "  <style>\n",
              "    .colab-df-container {\n",
              "      display:flex;\n",
              "      flex-wrap:wrap;\n",
              "      gap: 12px;\n",
              "    }\n",
              "\n",
              "    .colab-df-convert {\n",
              "      background-color: #E8F0FE;\n",
              "      border: none;\n",
              "      border-radius: 50%;\n",
              "      cursor: pointer;\n",
              "      display: none;\n",
              "      fill: #1967D2;\n",
              "      height: 32px;\n",
              "      padding: 0 0 0 0;\n",
              "      width: 32px;\n",
              "    }\n",
              "\n",
              "    .colab-df-convert:hover {\n",
              "      background-color: #E2EBFA;\n",
              "      box-shadow: 0px 1px 2px rgba(60, 64, 67, 0.3), 0px 1px 3px 1px rgba(60, 64, 67, 0.15);\n",
              "      fill: #174EA6;\n",
              "    }\n",
              "\n",
              "    [theme=dark] .colab-df-convert {\n",
              "      background-color: #3B4455;\n",
              "      fill: #D2E3FC;\n",
              "    }\n",
              "\n",
              "    [theme=dark] .colab-df-convert:hover {\n",
              "      background-color: #434B5C;\n",
              "      box-shadow: 0px 1px 3px 1px rgba(0, 0, 0, 0.15);\n",
              "      filter: drop-shadow(0px 1px 2px rgba(0, 0, 0, 0.3));\n",
              "      fill: #FFFFFF;\n",
              "    }\n",
              "  </style>\n",
              "\n",
              "      <script>\n",
              "        const buttonEl =\n",
              "          document.querySelector('#df-93598d76-5720-4c7d-96f7-746a88da4bef button.colab-df-convert');\n",
              "        buttonEl.style.display =\n",
              "          google.colab.kernel.accessAllowed ? 'block' : 'none';\n",
              "\n",
              "        async function convertToInteractive(key) {\n",
              "          const element = document.querySelector('#df-93598d76-5720-4c7d-96f7-746a88da4bef');\n",
              "          const dataTable =\n",
              "            await google.colab.kernel.invokeFunction('convertToInteractive',\n",
              "                                                     [key], {});\n",
              "          if (!dataTable) return;\n",
              "\n",
              "          const docLinkHtml = 'Like what you see? Visit the ' +\n",
              "            '<a target=\"_blank\" href=https://colab.research.google.com/notebooks/data_table.ipynb>data table notebook</a>'\n",
              "            + ' to learn more about interactive tables.';\n",
              "          element.innerHTML = '';\n",
              "          dataTable['output_type'] = 'display_data';\n",
              "          await google.colab.output.renderOutput(dataTable, element);\n",
              "          const docLink = document.createElement('div');\n",
              "          docLink.innerHTML = docLinkHtml;\n",
              "          element.appendChild(docLink);\n",
              "        }\n",
              "      </script>\n",
              "    </div>\n",
              "  </div>\n",
              "  "
            ]
          },
          "metadata": {},
          "execution_count": 12
        }
      ]
    },
    {
      "cell_type": "code",
      "source": [
        "dataset.describe()"
      ],
      "metadata": {
        "colab": {
          "base_uri": "https://localhost:8080/",
          "height": 175
        },
        "id": "wWlmgi8XY18t",
        "outputId": "36ea379e-71ea-47cc-94bf-9c126dcc315a"
      },
      "execution_count": null,
      "outputs": [
        {
          "output_type": "execute_result",
          "data": {
            "text/plain": [
              "           SA Unnamed: 1\n",
              "count   40885      40885\n",
              "unique  40885      36032\n",
              "top         0        0,4\n",
              "freq        1       4415"
            ],
            "text/html": [
              "\n",
              "  <div id=\"df-bb82f084-cf68-41e2-a860-0b3d6d064dc8\">\n",
              "    <div class=\"colab-df-container\">\n",
              "      <div>\n",
              "<style scoped>\n",
              "    .dataframe tbody tr th:only-of-type {\n",
              "        vertical-align: middle;\n",
              "    }\n",
              "\n",
              "    .dataframe tbody tr th {\n",
              "        vertical-align: top;\n",
              "    }\n",
              "\n",
              "    .dataframe thead th {\n",
              "        text-align: right;\n",
              "    }\n",
              "</style>\n",
              "<table border=\"1\" class=\"dataframe\">\n",
              "  <thead>\n",
              "    <tr style=\"text-align: right;\">\n",
              "      <th></th>\n",
              "      <th>SA</th>\n",
              "      <th>Unnamed: 1</th>\n",
              "    </tr>\n",
              "  </thead>\n",
              "  <tbody>\n",
              "    <tr>\n",
              "      <th>count</th>\n",
              "      <td>40885</td>\n",
              "      <td>40885</td>\n",
              "    </tr>\n",
              "    <tr>\n",
              "      <th>unique</th>\n",
              "      <td>40885</td>\n",
              "      <td>36032</td>\n",
              "    </tr>\n",
              "    <tr>\n",
              "      <th>top</th>\n",
              "      <td>0</td>\n",
              "      <td>0,4</td>\n",
              "    </tr>\n",
              "    <tr>\n",
              "      <th>freq</th>\n",
              "      <td>1</td>\n",
              "      <td>4415</td>\n",
              "    </tr>\n",
              "  </tbody>\n",
              "</table>\n",
              "</div>\n",
              "      <button class=\"colab-df-convert\" onclick=\"convertToInteractive('df-bb82f084-cf68-41e2-a860-0b3d6d064dc8')\"\n",
              "              title=\"Convert this dataframe to an interactive table.\"\n",
              "              style=\"display:none;\">\n",
              "        \n",
              "  <svg xmlns=\"http://www.w3.org/2000/svg\" height=\"24px\"viewBox=\"0 0 24 24\"\n",
              "       width=\"24px\">\n",
              "    <path d=\"M0 0h24v24H0V0z\" fill=\"none\"/>\n",
              "    <path d=\"M18.56 5.44l.94 2.06.94-2.06 2.06-.94-2.06-.94-.94-2.06-.94 2.06-2.06.94zm-11 1L8.5 8.5l.94-2.06 2.06-.94-2.06-.94L8.5 2.5l-.94 2.06-2.06.94zm10 10l.94 2.06.94-2.06 2.06-.94-2.06-.94-.94-2.06-.94 2.06-2.06.94z\"/><path d=\"M17.41 7.96l-1.37-1.37c-.4-.4-.92-.59-1.43-.59-.52 0-1.04.2-1.43.59L10.3 9.45l-7.72 7.72c-.78.78-.78 2.05 0 2.83L4 21.41c.39.39.9.59 1.41.59.51 0 1.02-.2 1.41-.59l7.78-7.78 2.81-2.81c.8-.78.8-2.07 0-2.86zM5.41 20L4 18.59l7.72-7.72 1.47 1.35L5.41 20z\"/>\n",
              "  </svg>\n",
              "      </button>\n",
              "      \n",
              "  <style>\n",
              "    .colab-df-container {\n",
              "      display:flex;\n",
              "      flex-wrap:wrap;\n",
              "      gap: 12px;\n",
              "    }\n",
              "\n",
              "    .colab-df-convert {\n",
              "      background-color: #E8F0FE;\n",
              "      border: none;\n",
              "      border-radius: 50%;\n",
              "      cursor: pointer;\n",
              "      display: none;\n",
              "      fill: #1967D2;\n",
              "      height: 32px;\n",
              "      padding: 0 0 0 0;\n",
              "      width: 32px;\n",
              "    }\n",
              "\n",
              "    .colab-df-convert:hover {\n",
              "      background-color: #E2EBFA;\n",
              "      box-shadow: 0px 1px 2px rgba(60, 64, 67, 0.3), 0px 1px 3px 1px rgba(60, 64, 67, 0.15);\n",
              "      fill: #174EA6;\n",
              "    }\n",
              "\n",
              "    [theme=dark] .colab-df-convert {\n",
              "      background-color: #3B4455;\n",
              "      fill: #D2E3FC;\n",
              "    }\n",
              "\n",
              "    [theme=dark] .colab-df-convert:hover {\n",
              "      background-color: #434B5C;\n",
              "      box-shadow: 0px 1px 3px 1px rgba(0, 0, 0, 0.15);\n",
              "      filter: drop-shadow(0px 1px 2px rgba(0, 0, 0, 0.3));\n",
              "      fill: #FFFFFF;\n",
              "    }\n",
              "  </style>\n",
              "\n",
              "      <script>\n",
              "        const buttonEl =\n",
              "          document.querySelector('#df-bb82f084-cf68-41e2-a860-0b3d6d064dc8 button.colab-df-convert');\n",
              "        buttonEl.style.display =\n",
              "          google.colab.kernel.accessAllowed ? 'block' : 'none';\n",
              "\n",
              "        async function convertToInteractive(key) {\n",
              "          const element = document.querySelector('#df-bb82f084-cf68-41e2-a860-0b3d6d064dc8');\n",
              "          const dataTable =\n",
              "            await google.colab.kernel.invokeFunction('convertToInteractive',\n",
              "                                                     [key], {});\n",
              "          if (!dataTable) return;\n",
              "\n",
              "          const docLinkHtml = 'Like what you see? Visit the ' +\n",
              "            '<a target=\"_blank\" href=https://colab.research.google.com/notebooks/data_table.ipynb>data table notebook</a>'\n",
              "            + ' to learn more about interactive tables.';\n",
              "          element.innerHTML = '';\n",
              "          dataTable['output_type'] = 'display_data';\n",
              "          await google.colab.output.renderOutput(dataTable, element);\n",
              "          const docLink = document.createElement('div');\n",
              "          docLink.innerHTML = docLinkHtml;\n",
              "          element.appendChild(docLink);\n",
              "        }\n",
              "      </script>\n",
              "    </div>\n",
              "  </div>\n",
              "  "
            ]
          },
          "metadata": {},
          "execution_count": 13
        }
      ]
    },
    {
      "cell_type": "code",
      "source": [
        "print(dataset.shape)\n",
        "print(dataset.dtypes)\n"
      ],
      "metadata": {
        "colab": {
          "base_uri": "https://localhost:8080/"
        },
        "id": "NfVJ8vY1Y7WN",
        "outputId": "58ab9278-da8b-489e-c39e-5c7728bbac78"
      },
      "execution_count": null,
      "outputs": [
        {
          "output_type": "stream",
          "name": "stdout",
          "text": [
            "(40885, 2)\n",
            "SA            object\n",
            "Unnamed: 1    object\n",
            "dtype: object\n"
          ]
        }
      ]
    },
    {
      "cell_type": "code",
      "source": [
        "#conversion a listas numericas\n",
        "A1=list(dataset.iloc[:,1])#columna 1\n",
        "B=[]\n",
        "for i in range(len(A1)):\n",
        "  B.append(float(A1[i].replace(\",\",\".\")))\n",
        "\n",
        "A2=list(dataset.iloc[:,0])#columna 0\n",
        "C=[]\n",
        "for i in range(len(A2)):\n",
        "  C.append(float(A2[i].replace(\",\",\".\")))"
      ],
      "metadata": {
        "id": "EAopVfMMZR2o"
      },
      "execution_count": null,
      "outputs": []
    },
    {
      "cell_type": "code",
      "source": [
        "# grafico de datos\n",
        "plt.hist(B, bins=30)\n",
        "plt.title(\"archivo 1\")\n",
        "plt.ylabel('Cantidad Veces')\n",
        "plt.xlabel('Valor');"
      ],
      "metadata": {
        "colab": {
          "base_uri": "https://localhost:8080/",
          "height": 295
        },
        "id": "7NGQhznBZwsB",
        "outputId": "777a0ffe-8536-4802-f84b-05f1f0adc9d3"
      },
      "execution_count": null,
      "outputs": [
        {
          "output_type": "display_data",
          "data": {
            "text/plain": [
              "<Figure size 432x288 with 1 Axes>"
            ],
            "image/png": "[encoded data removed]"
          },
          "metadata": {
            "needs_background": "light"
          }
        }
      ]
    },
    {
      "cell_type": "code",
      "source": [
        "plt.plot(C,B)\n",
        "plt.title(\"archivo 1\")\n",
        "plt.ylabel('Valor')\n",
        "plt.xlabel('Muestra');"
      ],
      "metadata": {
        "colab": {
          "base_uri": "https://localhost:8080/",
          "height": 295
        },
        "id": "oSDeAK4JaCJM",
        "outputId": "02ec3975-1f14-4c4e-810c-1997ab578e4c"
      },
      "execution_count": null,
      "outputs": [
        {
          "output_type": "display_data",
          "data": {
            "text/plain": [
              "<Figure size 432x288 with 1 Axes>"
            ],
            "image/png": "[encoded data removed]"
          },
          "metadata": {
            "needs_background": "light"
          }
        }
      ]
    },
    {
      "cell_type": "markdown",
      "source": [
        "# Andres F. Bohorquez (open)"
      ],
      "metadata": {
        "id": "fkfVYbxEoRY8"
      }
    },
    {
      "cell_type": "code",
      "source": [
        "def leer_archivo (direccion):\n",
        "    \n",
        "    \"\"\"esta funcion resive como argumento el numbre de un archivo tipo csv,con el cual se halla la \n",
        "    frecuencia relativa, se retornan estos datos y una grafica de esta informacion,adicional a esto se entrega \n",
        "    una lista con datos los cuales contienen informacion sobre(numero de elemtos totales,suma total de los elementos)\"\"\"\n",
        "    \n",
        "    #import numpy as np \n",
        "    \n",
        "    \"\"\"lectura de datos csv\"\"\"  \n",
        "    \n",
        "    with open (direccion,\"r\") as archivo: #leer archivo csv\n",
        "        lineas_x= archivo.read().splitlines()\n",
        "        lineas=lineas_x[1:]\n",
        "          \n",
        "           \n",
        "    datos=[] # lista donde se almacena los string del csv\n",
        "    for x in lineas:  # crear lista que contiene la lista de strings\n",
        "                \n",
        "        x=x.strip().split(\";\")\n",
        "        datos.append(x)\n",
        "          \n",
        "        \n",
        "    \"\"\" filtro de datos y cambio de str a float\"\"\"\n",
        "        \n",
        "        # ciclos para crear las listas de columnas y volverlos los valores  numericos \n",
        "    ejex_1=[]\n",
        "    for j in datos:\n",
        "            \n",
        "        s=(j[0])\n",
        "        \n",
        "        w=s.replace(\",\", \".\")\n",
        "        \n",
        "        ejex_1.append(float(w))\n",
        "            \n",
        "    ejey_1=[]\n",
        "    for k in datos:\n",
        "        l=(k[1])\n",
        "                \n",
        "        p=l.replace(\",\", \".\")\n",
        "                \n",
        "        ejey_1.append(float(p))\n",
        "    \n",
        "    return ejex_1, ejey_1\n"
      ],
      "metadata": {
        "id": "Bv9dwER3oew9"
      },
      "execution_count": null,
      "outputs": []
    },
    {
      "cell_type": "code",
      "source": [
        "Ex,Ey = leer_archivo (\"MN_archi01.csv\")#funcion lectura de datos"
      ],
      "metadata": {
        "id": "eOelJkQQplaY"
      },
      "execution_count": null,
      "outputs": []
    },
    {
      "cell_type": "code",
      "source": [
        "##grafico de datos repetidos\n",
        "lista = Ey\n",
        "\n",
        "repeticiones = {}\n",
        "for n in lista:\n",
        "  if n in repeticiones :\n",
        "    repeticiones[n] += 1\n",
        "  else:\n",
        "    repeticiones[n] = 0\n",
        "\n",
        "resultado={}\n",
        "for clave in repeticiones:\n",
        "  valor=repeticiones[clave]\n",
        "  if valor != 0:\n",
        "    resultado[clave] = valor\n",
        "\n",
        "tabla=np.array(list(resultado.items()))\n",
        "datos_adicionales=[len(lista),sum(Ey )]\n",
        "\n",
        "####grafica de datos en forma de puntos\"\"\"\n",
        "\n",
        "fig, ax = plt.subplots()\n",
        "ax.scatter(resultado.keys(),resultado.values())\n",
        "plt.show()\n",
        "    "
      ],
      "metadata": {
        "id": "D-51cRk1p1d2",
        "outputId": "738b6f12-3e51-4049-b945-01b78c7a4345",
        "colab": {
          "base_uri": "https://localhost:8080/",
          "height": 265
        }
      },
      "execution_count": null,
      "outputs": [
        {
          "output_type": "display_data",
          "data": {
            "text/plain": [
              "<Figure size 432x288 with 1 Axes>"
            ],
            "image/png": "[encoded data removed]"
          },
          "metadata": {
            "needs_background": "light"
          }
        }
      ]
    },
    {
      "cell_type": "markdown",
      "source": [
        "# JORGE ANDRES MIRANDA NARVAEZ(open)"
      ],
      "metadata": {
        "id": "OfbCjRjuAOYw"
      }
    },
    {
      "cell_type": "code",
      "source": [
        "##codigo para subir archivos a colab\n",
        "from google.colab import files\n",
        "uploaded = files.upload()"
      ],
      "metadata": {
        "colab": {
          "resources": {
            "http://localhost:8080/nbextensions/google.colab/files.js": {
              "data": "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",
              "ok": true,
              "headers": [
                [
                  "content-type",
                  "application/javascript"
                ]
              ],
              "status": 200,
              "status_text": ""
            }
          },
          "base_uri": "https://localhost:8080/",
          "height": 177
        },
        "id": "qOddvJD1AdHS",
        "outputId": "1561c932-0ed8-4eab-f263-bd4910afba56"
      },
      "execution_count": null,
      "outputs": [
        {
          "output_type": "display_data",
          "data": {
            "text/plain": [
              "<IPython.core.display.HTML object>"
            ],
            "text/html": [
              "\n",
              "     <input type=\"file\" id=\"files-76f25038-b096-4a23-acfa-da2571d856da\" name=\"files[]\" multiple disabled\n",
              "        style=\"border:none\" />\n",
              "     <output id=\"result-76f25038-b096-4a23-acfa-da2571d856da\">\n",
              "      Upload widget is only available when the cell has been executed in the\n",
              "      current browser session. Please rerun this cell to enable.\n",
              "      </output>\n",
              "      <script src=\"/nbextensions/google.colab/files.js\"></script> "
            ]
          },
          "metadata": {}
        },
        {
          "output_type": "stream",
          "name": "stdout",
          "text": [
            "Saving MN_archi04.csv to MN_archi04 (1).csv\n",
            "Saving MN_archi03.csv to MN_archi03 (1).csv\n",
            "Saving MN_archi01.csv to MN_archi01 (1).csv\n",
            "Saving MN_archi02.csv to MN_archi02 (1).csv\n"
          ]
        }
      ]
    },
    {
      "cell_type": "code",
      "source": [
        "def read_csv(archivo):\n",
        "    with open(archivo, 'r', encoding='utf-8') as f:\n",
        "        m=[]\n",
        "        n=[]\n",
        "        for  line in f.readlines():\n",
        "            texto = line.split(';')\n",
        "            m.append(texto[0].replace(\",\",\".\"))\n",
        "            n.append(texto[1].replace(\",\",\".\"))\n",
        "            \n",
        "    del m[0]\n",
        "    del n[0]\n",
        "\n",
        "    x = [float(x) for x in m]\n",
        "    y = [float(x) for x in n]\n",
        "    return x,y\n",
        "\n"
      ],
      "metadata": {
        "id": "_UWIsqT0ArzF"
      },
      "execution_count": null,
      "outputs": []
    },
    {
      "cell_type": "code",
      "source": [
        "archi=\"MN_archi01.csv\"\n",
        "X,Y = read_csv(archi) # llamado a la funcion de lectura\n",
        "\n",
        "print(\"dato minimo:\", \"(\",min(Y),\",\", Y.index(min(Y)),\")\")\n",
        "print(\"dato maximo:\", \"(\",max(Y),\",\",Y.index(max(Y)),\")\")\n",
        "print(\"Cantidad de datos :\", len(Y))\n",
        "\n",
        "fig, ax = plt.subplots(2, 2, sharey = True)\n",
        "ax[0, 0].plot(X, Y) #grafico de y = f(x)\n",
        "ax[0, 1].bar(X, Y) #??????\n",
        "ax[1, 0].violinplot(Y)#??????\n",
        "ax[1, 1].boxplot(Y)#???????\n"
      ],
      "metadata": {
        "colab": {
          "base_uri": "https://localhost:8080/",
          "height": 456
        },
        "id": "G6ePGQNaBTVy",
        "outputId": "8a1530a6-a254-4086-b32a-97ec345adb16"
      },
      "execution_count": null,
      "outputs": [
        {
          "output_type": "stream",
          "name": "stdout",
          "text": [
            "dato minimo: ( 1.57e-10 , 20634 )\n",
            "dato maximo: ( 0.8 , 9389 )\n",
            "Cantidad de datos : 40885\n"
          ]
        },
        {
          "output_type": "execute_result",
          "data": {
            "text/plain": [
              "{'boxes': [<matplotlib.lines.Line2D at 0x7fb159e26b10>],\n",
              " 'caps': [<matplotlib.lines.Line2D at 0x7fb159e30b10>,\n",
              "  <matplotlib.lines.Line2D at 0x7fb159e38090>],\n",
              " 'fliers': [<matplotlib.lines.Line2D at 0x7fb159e38ad0>],\n",
              " 'means': [],\n",
              " 'medians': [<matplotlib.lines.Line2D at 0x7fb159e385d0>],\n",
              " 'whiskers': [<matplotlib.lines.Line2D at 0x7fb159e30090>,\n",
              "  <matplotlib.lines.Line2D at 0x7fb159e305d0>]}"
            ]
          },
          "metadata": {},
          "execution_count": 6
        },
        {
          "output_type": "display_data",
          "data": {
            "text/plain": [
              "<Figure size 432x288 with 4 Axes>"
            ],
            "image/png": "[encoded data removed]"
          },
          "metadata": {
            "needs_background": "light"
          }
        }
      ]
    },
    {
      "cell_type": "markdown",
      "source": [
        "# Conexion Drive Google"
      ],
      "metadata": {
        "id": "4MPZ543UQN2-"
      }
    },
    {
      "cell_type": "code",
      "source": [
        "#Se hace la conexion al drive personal\n",
        "from google.colab import drive\n",
        "drive.mount('/drive')\n",
        "\n",
        "import os\n",
        "\n",
        "La = os.listdir(\"/drive/MyDrive\")\n",
        "print(\"Lista de archivos en drive: \",La)"
      ],
      "metadata": {
        "id": "Hm0pi5ZrQeWW",
        "outputId": "ea7ff96e-1ada-44a9-fd38-f39c5a8c75f4",
        "colab": {
          "base_uri": "https://localhost:8080/"
        }
      },
      "execution_count": null,
      "outputs": [
        {
          "output_type": "stream",
          "name": "stdout",
          "text": [
            "Mounted at /drive\n",
            "Lista de archivos en drive:  ['Acofi_2022', 'Colab Notebooks', 'INGENIERÍA.xlsx', 'MN2021_Interp-Ajuste_r0.ipynb', 'MN2021_Interp-Ajuste_r1.ipynb', 'MN2021_Interp-Ajuste_r2.ipynb']\n"
          ]
        }
      ]
    },
    {
      "cell_type": "markdown",
      "metadata": {
        "id": "2uq7_o-m1now"
      },
      "source": [
        "# Resultados y conclusiones"
      ]
    },
    {
      "cell_type": "markdown",
      "metadata": {
        "id": "WL-UTABg193O"
      },
      "source": [
        "**Conclusiones:**\n",
        "\n",
        "\n",
        "\n",
        "**Resultados:**\n",
        "\n",
        "**Referencias:**\n",
        "\n",
        "[Numerical Computing with MATLAB\n",
        "Copyright 2004, Cleve Moler. Introd.](https://www.mathworks.com/content/dam/mathworks/mathworks-dot-com/moler/intro.pdf)\n",
        "\n",
        "[Burde & Faires](https://udeaeduco.sharepoint.com/:b:/s/MtodosNumricos_2022-1/EQd1_32TgMhCh8MBU0FqxpIBSIjxSMEJKAcVIVyvYZHSng?e=nrWw8z)\n",
        "\n",
        "[Chapra & Canale](https://udeaeduco.sharepoint.com/:b:/s/MtodosNumricos_2022-1/EZgs5MpMDKtLpAZlwGEmn9oB3FvpAGncvlnWPcZ9wRNhIg?e=fPcsyf)\n",
        "\n",
        "[Kiusallas- NM with python ](https://udeaeduco.sharepoint.com/:b:/s/MtodosNumricos_2022-1/ESazTK0AHE5Pta-KrZ69VbUBds8rV7zE3pGtjjHiAO7-ig?e=07PVfI)"
      ]
    }
  ]
}