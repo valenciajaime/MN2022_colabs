{
  "nbformat": 4,
  "nbformat_minor": 0,
  "metadata": {
    "colab": {
      "name": "MN2022-1-TallerWV01.ipynb",
      "provenance": [],
      "collapsed_sections": [],
      "toc_visible": true,
      "include_colab_link": true
    },
    "kernelspec": {
      "name": "python3",
      "display_name": "Python 3"
    },
    "language_info": {
      "name": "python"
    }
  },
  "cells": [
    {
      "cell_type": "markdown",
      "metadata": {
        "id": "view-in-github",
        "colab_type": "text"
      },
      "source": [
        "<a href=\"https://colab.research.google.com/github/valenciajaime/MN2022_colabs/blob/main/MN2022_1_TallerWV01.ipynb\" target=\"_parent\"><img src=\"https://colab.research.google.com/assets/colab-badge.svg\" alt=\"Open In Colab\"/></a>"
      ]
    },
    {
      "cell_type": "markdown",
      "metadata": {
        "id": "7NkmQP8zvk3c"
      },
      "source": [
        "# Portada Taller 01"
      ]
    },
    {
      "cell_type": "markdown",
      "metadata": {
        "id": "-LmFfnJ5vt2H"
      },
      "source": [
        "**Nombres:** \n",
        "\n",
        "\n",
        "\n",
        "**Email:**\n",
        "\n",
        "\n",
        "**Curso:**\n",
        "Metodos numericos 2022-1\n",
        "\n",
        "**Fecha:**\n",
        "2022-mayo-20"
      ]
    },
    {
      "cell_type": "markdown",
      "metadata": {
        "id": "T7cD2HZWwW0v"
      },
      "source": [
        "# Descripción"
      ]
    },
    {
      "cell_type": "markdown",
      "metadata": {
        "id": "YrL9ny-swbsu"
      },
      "source": [
        "**Objetivos:**\n",
        "\n",
        "Desarrollar un taller en grupo sobre problemas de Errores numéricos en computadores y fundamentacion de los capitulos iniciales de textos guia del tema.\n",
        "\n",
        "\n",
        "**Ejemplos incluidos:**\n",
        "\n",
        "\n",
        "\n",
        "1.   Errores de redondeo\n",
        "2.   Calculo de polinomio\n",
        "3.   Epsilon de la maquina\n",
        "4.   Representación numérica\n",
        "\n",
        "\n",
        "**Ejemplos adicionales:**\n",
        "\n",
        "\n",
        "\n",
        "1.   List item\n",
        "2.   List item\n",
        "\n",
        "\n",
        "\n"
      ]
    },
    {
      "cell_type": "markdown",
      "source": [
        "# Ejemplos clase 2022-mayo-20"
      ],
      "metadata": {
        "id": "Y9lbBguviz4m"
      }
    },
    {
      "cell_type": "markdown",
      "metadata": {
        "id": "t2wnMYbLN62b"
      },
      "source": [
        "1. Errores redondeo"
      ]
    },
    {
      "cell_type": "markdown",
      "metadata": {
        "id": "y6ssXprlOJsW"
      },
      "source": [
        "Racional con numero finito de decimales."
      ]
    },
    {
      "cell_type": "code",
      "metadata": {
        "id": "X9eZ3XpKxGBW",
        "colab": {
          "base_uri": "https://localhost:8080/"
        },
        "outputId": "95018a2c-23f0-465f-b98b-39980a1e51d9"
      },
      "source": [
        "import numpy as np\n",
        "import matplotlib.pylab as plt\n",
        "\n",
        "\n",
        "# Error numerico \n",
        "# a1 = 0.1 numero finito de decimales\n",
        "\n",
        "a1 = 1/10\n",
        "a2 = a1+a1+a1+a1+a1+a1+a1+a1+a1+a1 #10 * 1/10\n",
        "a3 = 1 - a2 # 1 - 1 = 0\n",
        "\n",
        "print(\"Resultado numerico:\",a3)\n",
        "print(\"a3  es cero?: \",a3 == 0)\n"
      ],
      "execution_count": null,
      "outputs": [
        {
          "output_type": "stream",
          "name": "stdout",
          "text": [
            "Resultado numerico: 1.1102230246251565e-16\n",
            "a3  es cero?:  False\n"
          ]
        }
      ]
    },
    {
      "cell_type": "markdown",
      "metadata": {
        "id": "wPatNTTaOPOh"
      },
      "source": [
        "Racional con numero infinito de decimales."
      ]
    },
    {
      "cell_type": "code",
      "metadata": {
        "colab": {
          "base_uri": "https://localhost:8080/"
        },
        "id": "zphk76pUjdWx",
        "outputId": "85630c66-1800-4df7-cd73-92f1eaedd1fe"
      },
      "source": [
        "# Error numerico \n",
        "# b1 = 1/3 numero infinito de decimales\n",
        "\n",
        "b1 = 4/3 - 1 # 1/3\n",
        "b2 = b1 + b1 + b1 # 3 * 1/3 = 1\n",
        "b3 = 1 - b2 # 1 - 1 = 0\n",
        "\n",
        "print(\"Resultado numerico:\",b3)\n",
        "print(\"b3 es cero?: \",b3 == 0)\n"
      ],
      "execution_count": null,
      "outputs": [
        {
          "output_type": "stream",
          "name": "stdout",
          "text": [
            "Resultado numerico: 2.220446049250313e-16\n",
            "b3 es cero?:  False\n"
          ]
        }
      ]
    },
    {
      "cell_type": "markdown",
      "metadata": {
        "id": "Ld5YkVPxOWOG"
      },
      "source": [
        "Numero irracional."
      ]
    },
    {
      "cell_type": "code",
      "metadata": {
        "colab": {
          "base_uri": "https://localhost:8080/"
        },
        "id": "CasM-dI5jj8L",
        "outputId": "5d5804a2-2c59-4129-d7b3-111fcb59172d"
      },
      "source": [
        "# Error numerico \n",
        "# c1 = raiz cuadrada de 3\n",
        "\n",
        "c1 = np.sqrt(3)\n",
        "c2 = c1*c1 # = 3\n",
        "c3 = 3 - c2 # 3 - 3 = 0\n",
        "\n",
        "print(\"Resultado numerico:\",c3)\n",
        "print(\"c3 es cero?: \",c3 == 0)\n",
        "  "
      ],
      "execution_count": null,
      "outputs": [
        {
          "output_type": "stream",
          "name": "stdout",
          "text": [
            "Resultado numerico: 4.440892098500626e-16\n",
            "c3 es cero?:  False\n"
          ]
        }
      ]
    },
    {
      "cell_type": "markdown",
      "metadata": {
        "id": "ekGFmpe2PSqp"
      },
      "source": [
        "2. Calculo de polinomio"
      ]
    },
    {
      "cell_type": "markdown",
      "metadata": {
        "id": "CDfBAmnWgKYv"
      },
      "source": [
        "$ \\big(x-1\\big)^{7}= x^{7} -7x^{6} +21x^{5} -35x^{4} +35x^{3} -21x^{2} + 7x -1 $"
      ]
    },
    {
      "cell_type": "code",
      "metadata": {
        "colab": {
          "base_uri": "https://localhost:8080/",
          "height": 276
        },
        "id": "nEih0uCyPaTJ",
        "outputId": "ecfa1d8e-0451-4ac6-eff6-69c33da8cf9e"
      },
      "source": [
        "P01 = lambda x:x**7 -7*x**6 +21*x**5 -35*x**4 +35*x**3 -21*x**2 + 7*x -1\n",
        "\n",
        "Rx_01 = np.linspace(0.99,1.01,100)\n",
        "Y_p01 = P01(Rx_01)\n",
        "\n",
        "plt.plot(Rx_01,Y_p01)\n",
        "plt.grid(\"on\")\n",
        "plt.show()\n"
      ],
      "execution_count": null,
      "outputs": [
        {
          "output_type": "display_data",
          "data": {
            "text/plain": [
              "<Figure size 432x288 with 1 Axes>"
            ],
            "image/png": "[encoded data removed]"
          },
          "metadata": {
            "needs_background": "light"
          }
        }
      ]
    },
    {
      "cell_type": "code",
      "metadata": {
        "colab": {
          "base_uri": "https://localhost:8080/",
          "height": 276
        },
        "id": "jEXJQNi9QscE",
        "outputId": "033a0ac5-3f83-43cd-d37d-dff6fe9c656f"
      },
      "source": [
        "P02 = [1, -7, 21, -35, 35, -21, 7, -1 ]# representacion polinomio\n",
        "\n",
        "Y_p02 = np.polyval(P02,Rx_01)\n",
        "\n",
        "plt.plot(Rx_01,Y_p02)\n",
        "plt.grid(\"on\")\n",
        "plt.show()\n"
      ],
      "execution_count": null,
      "outputs": [
        {
          "output_type": "display_data",
          "data": {
            "text/plain": [
              "<Figure size 432x288 with 1 Axes>"
            ],
            "image/png": "[encoded data removed]"
          },
          "metadata": {
            "needs_background": "light"
          }
        }
      ]
    },
    {
      "cell_type": "markdown",
      "metadata": {
        "id": "9L4HqYJUgWe9"
      },
      "source": [
        " $\\big(x-1\\big)^{7}= x^{7} -7x^{6} +21x^{5} -35x^{4} +35x^{3} -21x^{2} + 7x -1 $"
      ]
    },
    {
      "cell_type": "code",
      "metadata": {
        "colab": {
          "base_uri": "https://localhost:8080/",
          "height": 276
        },
        "id": "Jb7Ijzh6Rde3",
        "outputId": "16f05160-788b-4744-e9f1-f5fe43c17304"
      },
      "source": [
        "P03 = lambda x: (x-1)**7\n",
        "\n",
        "Y_p03 = P03(Rx_01)\n",
        "\n",
        "plt.plot(Rx_01,Y_p03)\n",
        "plt.grid(\"on\")\n",
        "plt.show()"
      ],
      "execution_count": null,
      "outputs": [
        {
          "output_type": "display_data",
          "data": {
            "text/plain": [
              "<Figure size 432x288 with 1 Axes>"
            ],
            "image/png": "[encoded data removed]"
          },
          "metadata": {
            "needs_background": "light"
          }
        }
      ]
    },
    {
      "cell_type": "markdown",
      "metadata": {
        "id": "ygfxh4QrK1vf"
      },
      "source": [
        "Comparacion de diferentes formas de calculo de un mismo polinomio."
      ]
    },
    {
      "cell_type": "code",
      "metadata": {
        "colab": {
          "base_uri": "https://localhost:8080/",
          "height": 276
        },
        "id": "Bllzyve4R8sK",
        "outputId": "e8604ece-a15c-42b2-c14c-bec92a29eba6"
      },
      "source": [
        "plt.plot(Rx_01,Y_p01)\n",
        "plt.plot(Rx_01,Y_p02)\n",
        "plt.plot(Rx_01,Y_p03)\n",
        "plt.grid(\"on\")\n",
        "plt.legend([\"extendido\",\"polyval\",\"simplificado\"], loc=2)\n",
        "plt.show()"
      ],
      "execution_count": null,
      "outputs": [
        {
          "output_type": "display_data",
          "data": {
            "text/plain": [
              "<Figure size 432x288 with 1 Axes>"
            ],
            "image/png": "[encoded data removed]"
          },
          "metadata": {
            "needs_background": "light"
          }
        }
      ]
    },
    {
      "cell_type": "markdown",
      "metadata": {
        "id": "aZTlnk3HVP7e"
      },
      "source": [
        "3. Epsilon de la maquina"
      ]
    },
    {
      "cell_type": "markdown",
      "metadata": {
        "id": "Kd3bIGRwYcRd"
      },
      "source": [
        "![Moler_fig1-7_2021-11-24 14-17-03.png](data:image/png;base64,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)"
      ]
    },
    {
      "cell_type": "markdown",
      "metadata": {
        "id": "G_I7do5bYys3"
      },
      "source": [
        "Figura del libro de Moler que muestra una representacion de los los numeros reales en el computador. [Moler, C. 2004](https://www.mathworks.com/content/dam/mathworks/mathworks-dot-com/moler/intro.pdf)"
      ]
    },
    {
      "cell_type": "code",
      "metadata": {
        "colab": {
          "base_uri": "https://localhost:8080/"
        },
        "id": "QHVjEdtRTBvC",
        "outputId": "0a20362b-5481-45fb-a472-afe3336ca329"
      },
      "source": [
        "import sys\n",
        "\n",
        "V_float = sys.float_info\n",
        "\n",
        "print(V_float)\n",
        "\n",
        "ep = V_float.epsilon\n",
        "print(ep)\n",
        "print(1,1+ep)\n",
        "\n",
        "d1 = 1 + ep/2\n",
        "d2 = 1 + ep/4\n",
        "d3 = 1 + ep/3\n",
        "\n",
        "print(\"d1 = d2? : \",d1 == d2)\n",
        "print(\"d2 = d3? : \",d2 == d3)\n",
        "print(\"d1 = d3? : \",d1 == d3)\n",
        "\n",
        "d4 = d1 + ep\n",
        "d5 = d1 + 1.4*ep\n",
        "\n",
        "print(\"d4 = d5? : \",d4 == d5)\n",
        "\n",
        "print(\"d1: \",d1)\n",
        "print(\"d4: \",d4)"
      ],
      "execution_count": null,
      "outputs": [
        {
          "output_type": "stream",
          "name": "stdout",
          "text": [
            "sys.float_info(max=1.7976931348623157e+308, max_exp=1024, max_10_exp=308, min=2.2250738585072014e-308, min_exp=-1021, min_10_exp=-307, dig=15, mant_dig=53, epsilon=2.220446049250313e-16, radix=2, rounds=1)\n",
            "2.220446049250313e-16\n",
            "1 1.0000000000000002\n",
            "d1 = d2? :  True\n",
            "d2 = d3? :  True\n",
            "d1 = d3? :  True\n",
            "d4 = d5? :  True\n",
            "d1:  1.0\n",
            "d4:  1.0000000000000002\n"
          ]
        }
      ]
    },
    {
      "cell_type": "code",
      "metadata": {
        "id": "MVtwagyCZ3ap"
      },
      "source": [
        "#Cual es el numero mayor que 2 mas pequeño en el computador?\n"
      ],
      "execution_count": null,
      "outputs": []
    },
    {
      "cell_type": "markdown",
      "metadata": {
        "id": "Qk-LE00Dknb5"
      },
      "source": [
        "4. Representación numérica"
      ]
    },
    {
      "cell_type": "code",
      "metadata": {
        "colab": {
          "base_uri": "https://localhost:8080/"
        },
        "id": "Dz5HNIBdi57d",
        "outputId": "5ecdacf0-2b43-4bfa-94ed-9da6c50ee8fa"
      },
      "source": [
        "\n",
        "I1 = 1000    #numero entero\n",
        "I2 = 1.0    #numero real\n",
        "I3 = 1/10   #numero real\n",
        "C4 = complex(1,3.2)\n",
        "\n",
        "print(\"Complejo: \",type(C4),C4)\n",
        "\n",
        "print(type(I1))\n",
        "print(\"Numero de bits: \",I1.bit_length())\n",
        "\n",
        "print(type(I2),type(I3))\n",
        "print(I2.hex())\n",
        "print(I3.hex())\n",
        "print(I3.as_integer_ratio())\n"
      ],
      "execution_count": null,
      "outputs": [
        {
          "output_type": "stream",
          "name": "stdout",
          "text": [
            "Complejo:  <class 'complex'> (1+3.2j)\n",
            "<class 'int'>\n",
            "Numero de bits:  10\n",
            "<class 'float'> <class 'float'>\n",
            "0x1.0000000000000p+0\n",
            "0x1.999999999999ap-4\n",
            "(3602879701896397, 36028797018963968)\n"
          ]
        }
      ]
    },
    {
      "cell_type": "markdown",
      "metadata": {
        "id": "2uq7_o-m1now"
      },
      "source": [
        "# Resultados y conclusiones"
      ]
    },
    {
      "cell_type": "markdown",
      "metadata": {
        "id": "WL-UTABg193O"
      },
      "source": [
        "**Conclusiones:**\n",
        "\n",
        "\n",
        "\n",
        "**Resultados:**\n",
        "\n",
        "**Referencias:**\n",
        "\n",
        "[Numerical Computing with MATLAB\n",
        "Copyright 2004, Cleve Moler. Introd.](https://www.mathworks.com/content/dam/mathworks/mathworks-dot-com/moler/intro.pdf)\n",
        "\n",
        "[Burde & Faires](https://udeaeduco.sharepoint.com/:b:/s/MtodosNumricos_2022-1/EQd1_32TgMhCh8MBU0FqxpIBSIjxSMEJKAcVIVyvYZHSng?e=nrWw8z)\n",
        "\n",
        "[Chapra & Canale](https://udeaeduco.sharepoint.com/:b:/s/MtodosNumricos_2022-1/EZgs5MpMDKtLpAZlwGEmn9oB3FvpAGncvlnWPcZ9wRNhIg?e=fPcsyf)"
      ]
    },
    {
      "cell_type": "markdown",
      "source": [
        "# Jorge Andrés Figueredo Restrepo"
      ],
      "metadata": {
        "id": "UU7r3j81Qely"
      }
    },
    {
      "cell_type": "markdown",
      "source": [
        "**Algoritmo para determinar las raíces de una ecuación cuadrática**\n",
        "\n",
        "**Referencia:** Métodos numéricos para ingenieros, Chapra, 5ta edición.\n",
        "\n",
        "Para realizar este ejercicio, me basé en el siguiente video https://www.youtube.com/watch?v=gVWSupivDlE . Sin embargo, modifiqué algunas partes del código para que no fuera exactamente el mismo.\n",
        "\n",
        "**Nota:** Este código sólo es válido para soluciones con números reales."
      ],
      "metadata": {
        "id": "irTOxEckTaoR"
      }
    },
    {
      "cell_type": "code",
      "source": [
        "from math import sqrt\n",
        "\n",
        "# raíces de una ecuación cuadrática\n",
        "\n",
        "a = float(input(\"Ingrese el término cuadrático: \"))\n",
        "b = float(input(\"Ingrese el término lineal: \"))\n",
        "c = float(input(\"Ingrese el término constante: \"))\n",
        "\n",
        "disc = b**2 - 4*a*c\n",
        "if disc < 0:\n",
        "    print(\"La solución no está definida para los números reales.\")\n",
        "else:\n",
        "    x1 = (-b + sqrt(disc)) / (2*a)\n",
        "    x2 = (-b - sqrt(disc)) / (2*a)\n",
        "    print(\"Soluciones:\", x1, x2)"
      ],
      "metadata": {
        "colab": {
          "base_uri": "https://localhost:8080/"
        },
        "id": "Amo26dnKUmEB",
        "outputId": "fa77e510-0bbb-4f13-d230-703be6e434e0"
      },
      "execution_count": null,
      "outputs": [
        {
          "output_type": "stream",
          "name": "stdout",
          "text": [
            "Ingrese el término cuadrático: 1\n",
            "Ingrese el término lineal: 1\n",
            "Ingrese el término constante: 1\n",
            "La solución no está definida para los números reales.\n"
          ]
        }
      ]
    },
    {
      "cell_type": "markdown",
      "source": [
        "# **Camilo Andres Moreno Rojas**"
      ],
      "metadata": {
        "id": "wZgPLREOBFlA"
      }
    },
    {
      "cell_type": "markdown",
      "source": [
        "**Polinomio de interpolación:** Unir n puntos en el plano usando un polinomio de interpolación, se puede realizar con un polinomio de grado (n-1) y la misma cantidad de puntos en el plano."
      ],
      "metadata": {
        "id": "E-go6YIBBWY6"
      }
    },
    {
      "cell_type": "code",
      "source": [
        "\n",
        "import numpy as np\n",
        "import sympy as sym\n",
        "import matplotlib.pyplot as plt\n",
        "\n",
        "#Ingreso de datos\n",
        "xi = [0.1,0.5,0.3,0.4,1,1.1]\n",
        "fi = [1,1.6,1.7,2.0,3,3.6]\n",
        "\n",
        "\n",
        "# Convierte a arreglos numpy \n",
        "xi = np.array(xi)\n",
        "B = np.array(fi)\n",
        "n = len(xi)\n",
        "\n",
        "\n",
        "# Llevar los datos a una Matriz A\n",
        "A = np.zeros(shape=(n,n),dtype =float)\n",
        "for i in range(0,n,1):\n",
        "    for j in range(0,n,1):\n",
        "        potencia = (n-1)-j # Derecha a izquierda\n",
        "        A[i,j] = xi[i]**potencia\n",
        "\n",
        "# Resuelve sistema de ecuaciones A.X=B\n",
        "coeficiente = np.linalg.solve(A,B)\n",
        "\n",
        "# Polinomio en forma simbólica\n",
        "x = sym.Symbol('x')\n",
        "polinomio = 0\n",
        "for i in range(0,n,1):\n",
        "    potencia = (n-1)-i   # Derecha a izquierda\n",
        "    termino = coeficiente[i]*(x**potencia)\n",
        "    polinomio = polinomio + termino\n",
        "\n",
        "\n",
        "# para evaluación con vectores de datos xin\n",
        "px = sym.lambdify(x,polinomio)\n",
        "\n",
        "# polinomio \n",
        "N = np.min(xi)\n",
        "M = np.max(xi)\n",
        "muestras = 120\n",
        "xin = np.linspace(N,M,muestras)\n",
        "yin = px(xin)\n",
        "\n",
        "print('Polinomio de interpolación: ')\n",
        "print(polinomio)\n",
        "\n",
        "\n",
        "# Grafica\n",
        "plt.plot(xi,fi,'o', label='[xi,fi]')\n",
        "plt.plot(xin,yin, label='p(x)')\n",
        "plt.xlabel('xi')\n",
        "plt.ylabel('fi')\n",
        "plt.legend()\n",
        "plt.show()"
      ],
      "metadata": {
        "colab": {
          "base_uri": "https://localhost:8080/",
          "height": 314
        },
        "id": "PQ3G7f8fBi5C",
        "outputId": "d09dfe8d-a7ae-4cb6-f468-3cceb2fc7226"
      },
      "execution_count": null,
      "outputs": [
        {
          "output_type": "stream",
          "name": "stdout",
          "text": [
            "Polinomio de interpolación: \n",
            "-259.589947089943*x**5 + 763.194444444434*x**4 - 789.937169312161*x**3 + 343.955357142854*x**2 - 58.7770502645498*x + 4.15436507936506\n"
          ]
        },
        {
          "output_type": "display_data",
          "data": {
            "text/plain": [
              "<Figure size 432x288 with 1 Axes>"
            ],
            "image/png": "[encoded data removed]"
          },
          "metadata": {
            "needs_background": "light"
          }
        }
      ]
    },
    {
      "cell_type": "markdown",
      "source": [
        "# Carlos Casas Arenas"
      ],
      "metadata": {
        "id": "iqQ5StAzFnzU"
      }
    },
    {
      "cell_type": "markdown",
      "source": [
        "Operaciones basicas con Sympy y Scipy"
      ],
      "metadata": {
        "id": "3KgHpHq7FnHD"
      }
    },
    {
      "cell_type": "code",
      "source": [
        "from matplotlib import pyplot as plt\n",
        "import numpy as np\n",
        "from scipy import integrate, optimize\n",
        "from scipy.misc import derivative\n",
        "import sympy as sp\n",
        "\n",
        "import warnings\n",
        "warnings.filterwarnings('ignore', 'The iteration is not making good progress')"
      ],
      "metadata": {
        "id": "jx4-oqnwFlTd"
      },
      "execution_count": null,
      "outputs": []
    },
    {
      "cell_type": "code",
      "source": [
        "class Sympy:\n",
        "  def __init__(self, eq, arg):\n",
        "    #definiendo ecuación y su simbolo \n",
        "    self.eq = eq\n",
        "    self.arg = arg\n",
        "    self.s = sp.Symbol('s')\n",
        "\n",
        "  def resolver(self):\n",
        "    #resolver la ecuación\n",
        "    return sp.solve(self.eq, self.arg)\n",
        "\n",
        "  def derivar(self):\n",
        "    #resolver derivada\n",
        "    return sp.diff(self.eq, self.arg)\n",
        "\n",
        "  def integrar(self):\n",
        "    #resolver integral\n",
        "    return sp.integrate(self.eq, self.arg)\n",
        "\n",
        "  def laplace(self):\n",
        "    #laplace\n",
        "    return (sp.laplace_transform(self.eq, self.arg, self.s))[0]\n",
        "\n",
        "class Scipy:\n",
        "  def __init__(self, eq):\n",
        "    #se define la ecuación\n",
        "    self.eq = eq\n",
        "\n",
        "  def resolver(self):\n",
        "    #resolver ecuación\n",
        "    f0 = 0 #valor inicial\n",
        "    return optimize.fsolve(self.eq, [1.,-1.])\n",
        "\n",
        "  def derivar(self, point):\n",
        "    #derivar en un punto\n",
        "    return derivative(self.eq, point)\n",
        "\n",
        "  def integrar(self, _from, _to):\n",
        "    #resolver integral en un intervalo\n",
        "    return (integrate.quad(self.eq, _from, _to))[0]"
      ],
      "metadata": {
        "id": "kpFvQzJSF2MS"
      },
      "execution_count": null,
      "outputs": []
    },
    {
      "cell_type": "code",
      "source": [
        "print(\"Sympy:\")\n",
        "#se define el simbolo y la ecuación\n",
        "x = sp.Symbol('x')\n",
        "fx = x**2 - 4\n",
        "print(\"Ecuación:\", fx)\n",
        "print(\"Raices:\", Sympy(fx, x).resolver())\n",
        "print(\"Derivada:\", Sympy(fx, x).derivar())\n",
        "print(\"Integral:\", Sympy(fx, x).integrar())\n",
        "print(\"Laplace:\", Sympy(fx, x).laplace())\n",
        "\n",
        "print(\"Scipy:\")\n",
        "#se define la ecuación\n",
        "ft = lambda t : t**2 - 4\n",
        "#derivar en el punto\n",
        "punto = 1\n",
        "#intervalo de integración\n",
        "desde = 0\n",
        "hasta = 10\n",
        "print(\"Raices:\", Scipy(ft).resolver())\n",
        "print(\"Derivada en el punto\",punto,\"es:\", Scipy(ft).derivar(punto))\n",
        "print(\"Integral desde\",desde,\"hasta\",hasta,\"es\", Scipy(ft).integrar(desde,hasta))"
      ],
      "metadata": {
        "colab": {
          "base_uri": "https://localhost:8080/"
        },
        "id": "jattCKn2F2jC",
        "outputId": "6b5f073d-2f2e-449f-a0de-c9856fb18647"
      },
      "execution_count": null,
      "outputs": [
        {
          "output_type": "stream",
          "name": "stdout",
          "text": [
            "Sympy:\n",
            "Ecuación: x**2 - 4\n",
            "Raices: [-2, 2]\n",
            "Derivada: 2*x\n",
            "Integral: x**3/3 - 4*x\n",
            "Laplace: -4/s + 2/s**3\n",
            "Scipy:\n",
            "Raices: [ 2. -2.]\n",
            "Derivada en el punto 1 es: 2.0\n",
            "Integral desde 0 hasta 10 es 293.33333333333337\n"
          ]
        }
      ]
    },
    {
      "cell_type": "markdown",
      "source": [
        "#Maria Natalia Jimenez Lopez\n"
      ],
      "metadata": {
        "id": "OdyjXGLL5Tx9"
      }
    },
    {
      "cell_type": "markdown",
      "source": [
        "**Referencia**: Métodos numéricos para ingenieros, Chapra.\n",
        "**Errores de redondeo**\n",
        "\n",
        "EJEMPLO 3.6:Investigue el efecto del error de redondeo en un gran número de cálculos interdependientes. Desarrolle un programa que sume un número 100 000 veces. Sume el número 1 con precisión simple, y 0.00001 con precisiones sim- ple y doble"
      ],
      "metadata": {
        "id": "OnUSe97-526m"
      }
    },
    {
      "cell_type": "code",
      "source": [
        "import numpy \n",
        "x1=1\n",
        "x2=numpy.float32(1e-5)\n",
        "x3=float(1e-5)\n",
        "\n",
        "contador1=0\n",
        "contador2=0\n",
        "contador3=0\n",
        "\n",
        "for i in range (1000000):\n",
        "  contador1=contador1+x1\n",
        "  contador2=contador2+x2\n",
        "  contador3=contador3+x3\n",
        "\n",
        "print(contador1)\n",
        "print(contador2)\n",
        "print(contador3)\n"
      ],
      "metadata": {
        "colab": {
          "base_uri": "https://localhost:8080/"
        },
        "id": "lkcOsoYG5bkq",
        "outputId": "02381504-4e04-4185-a7af-90fdb9919865"
      },
      "execution_count": null,
      "outputs": [
        {
          "output_type": "stream",
          "name": "stdout",
          "text": [
            "1000000\n",
            "9.999999747378752\n",
            "9.99999999979059\n"
          ]
        }
      ]
    },
    {
      "cell_type": "markdown",
      "source": [
        "# Miguel Ángel Moreno Rodas"
      ],
      "metadata": {
        "id": "DFtrolZGoQdz"
      }
    },
    {
      "cell_type": "markdown",
      "source": [
        "EJEMPLO 3.7: Calcule el valor de las raíces de una ecuación cuadrática con a = 1, b = 3 000.001 y c = 3. Compare el valor calculado con las raíces verdaderas x1 = –0.001 y x2 = –3 000. (Pag 100 pdf, 74 libro)\n"
      ],
      "metadata": {
        "id": "CGn4iG9Kpvt7"
      }
    },
    {
      "cell_type": "code",
      "source": [
        "import math \n",
        "\n",
        "a = 1\n",
        "b = 3000.001\n",
        "c = 3\n",
        "d = math.sqrt(b**2 - 4*a*c)\n",
        "x1 = (-b + d) / (2*a)\n",
        "x2 = (-b - d) / (2*a)\n",
        "print(\"Resultados con precisión simple:\")\n",
        "print(\"X1:\",x1)\n",
        "print(\"X2:\",x2,\"\\n\")\n",
        "\n",
        "aa = 1\n",
        "bb = 3000.001\n",
        "cc = 3\n",
        "dd = math.sqrt(bb*bb - 4*aa*cc) \n",
        "x11 = (-bb + dd) / (2*aa)\n",
        "x22 = (-bb - dd) / (2*aa) \n",
        "print(\"Resultados con precisión doble:\")\n",
        "print(\"X1:\", round(x11, 3))  #Función round permite redondear un número con la cantidad de decimales #que se deseé. \n",
        "#print(\"X1:\",x11)  \n",
        "print(\"X2:\",x22,\"\\n\")       \n",
        "\n",
        "print(\"Fórmula modificada para la primer raíz:\")\n",
        "x1r = -2*c / (b + d)\n",
        "print(\"X1:\", x1r)"
      ],
      "metadata": {
        "colab": {
          "base_uri": "https://localhost:8080/"
        },
        "id": "mMyohy2jpzKD",
        "outputId": "ce85d154-7bf7-48d6-fed6-d61b29a6b304"
      },
      "execution_count": null,
      "outputs": [
        {
          "output_type": "stream",
          "name": "stdout",
          "text": [
            "Resultados con precisión simple:\n",
            "X1: -0.0009999999999763531\n",
            "X2: -3000.0 \n",
            "\n",
            "Resultados con precisión doble:\n",
            "X1: -0.001\n",
            "X2: -3000.0 \n",
            "\n",
            "Fórmula modificada para la primer raíz:\n",
            "X1: -0.001\n"
          ]
        }
      ]
    },
    {
      "cell_type": "markdown",
      "source": [
        "#Juan Esteban Hoyos Zuluaga"
      ],
      "metadata": {
        "id": "BTK8CBTxBj7p"
      }
    },
    {
      "cell_type": "markdown",
      "source": [
        "Ejemplo 3.8. Evaluación de e^x usando series infinitas con x=10 y x=-10."
      ],
      "metadata": {
        "id": "DTSXn4GsBr3z"
      }
    },
    {
      "cell_type": "code",
      "source": [
        "import math as mt\n",
        "i = 0\n",
        "term = 1.\n",
        "sum = 1.\n",
        "test = 0.\n",
        "x=10\n",
        "x1=-10\n",
        "\n",
        "for i in range(0,10):\n",
        "  i = i + 1\n",
        "  term = term*x/i\n",
        "  test = sum\n",
        "  sum = sum+term\n",
        "  #print(i, term, sum)\n",
        "print('valor exacto para x=10:', mt.exp(x))\n",
        "print('valor exacto para x=-10:', mt.exp(x1))\n",
        "\n",
        "#Código alternativo\n",
        "import math\n",
        "x=10\n",
        "x1=-10\n",
        "def funcion_exponencial(x):\n",
        "    suma = 0\n",
        "\n",
        "    for n in range(0, 50):\n",
        "        suma += math.pow(x, n) / math.factorial(n)\n",
        "\n",
        "    return suma\n",
        "suma=funcion_exponencial(x)\n",
        "suma1=funcion_exponencial(x1)\n",
        "print('Resultado con la función funcion exponencial con x=10:',suma)\n",
        "print('Resultado con la función funcion exponencial con x=-10:',suma1)"
      ],
      "metadata": {
        "colab": {
          "base_uri": "https://localhost:8080/"
        },
        "id": "V7L6zyhgCOfr",
        "outputId": "a50ef76f-0300-484b-fc77-c6a283fbcff9"
      },
      "execution_count": null,
      "outputs": [
        {
          "output_type": "stream",
          "name": "stdout",
          "text": [
            "valor exacto para x=10: 22026.465794806718\n",
            "valor exacto para x=-10: 4.5399929762484854e-05\n",
            "Resultado con la función funcion exponencial con x=10: 22026.46579480671\n",
            "Resultado con la función funcion exponencial con x=-10: 4.539992943130566e-05\n"
          ]
        }
      ]
    },
    {
      "cell_type": "markdown",
      "source": [
        "# Juan David López Aguirre"
      ],
      "metadata": {
        "id": "F_Evl3SbrcyO"
      }
    },
    {
      "cell_type": "code",
      "source": [
        "resultado=1\n",
        "while resultado <= 5:\n",
        "  resultado = resultado*10\n",
        "  resultado +=1\n",
        "\n",
        "print (\"Resultado obtenido:\"2.55*resultado)\n",
        "print (\"Resultado logico\":28.5)\n",
        "\n",
        "#El error en la aproximacion yace en la difultad que se espera que el computador opere con un números decimales, \n",
        "#y este usa números binarios, creando estos pequeños y aveces problematicos errores de redondeo"
      ],
      "metadata": {
        "colab": {
          "base_uri": "https://localhost:8080/"
        },
        "id": "DPnYzr8kr2p1",
        "outputId": "744b2161-efd9-4d41-814d-a05ea3474b65"
      },
      "execution_count": null,
      "outputs": [
        {
          "output_type": "stream",
          "name": "stdout",
          "text": [
            "28.049999999999997\n"
          ]
        }
      ]
    },
    {
      "cell_type": "markdown",
      "source": [
        "# Julitza Daza - Metodo de Biseccion\n",
        "El **método de bisección**, también llamado dicotomía, es un algoritmo de búsqueda de raíces que trabaja dividiendo el intervalo a la mitad y seleccionando el subintervalo que tiene la raíz.\n",
        "\n",
        "*Fuente: http://blog.espol.edu.ec/analisisnumerico/2-1-1-biseccion-ejemplo01/*"
      ],
      "metadata": {
        "id": "vKYO_Mhvz6hz"
      }
    },
    {
      "cell_type": "code",
      "source": [
        "# Algoritmo de Bisección\n",
        "# [a,b] se escogen de la gráfica de la función\n",
        "# error = tolera\n",
        "\n",
        "import scipy.optimize as opt\n",
        "import numpy as np\n",
        "import matplotlib.pyplot as plt\n",
        "\n",
        "# INGRESO\n",
        "fx = lambda x: x**3 + 4*x**2 - 10 \n",
        "a = 1\n",
        "b = 2\n",
        "tolera = 0.001\n",
        "\n",
        "# PROCEDIMIENTO\n",
        "tramo = b-a\n",
        "while not(tramo<tolera):\n",
        "    c = (a+b)/2\n",
        "    fa = fx(a)\n",
        "    fb = fx(b)\n",
        "    fc = fx(c)\n",
        "    cambia = np.sign(fa)*np.sign(fc)\n",
        "    if cambia < 0: \n",
        "        a = a\n",
        "        b = c\n",
        "    if cambia > 0:\n",
        "        a = c\n",
        "        b = b\n",
        "    tramo = b-a\n",
        "\n",
        "#Solución por numpy\n",
        "coef = [-10, 0, 4, 1] # Coeficientes del polinomio\n",
        "root = np.polynomial.polynomial.polyroots(coef)\n",
        "\n",
        "# SALIDA\n",
        "print('       raiz en: ', c)\n",
        "print('error en tramo: ', tramo)\n",
        "print(root)\n",
        "\n"
      ],
      "metadata": {
        "colab": {
          "base_uri": "https://localhost:8080/"
        },
        "id": "DYdeVdFizJW9",
        "outputId": "0ff62258-3fb3-49ed-e6e2-cd2e97ad68b8"
      },
      "execution_count": null,
      "outputs": [
        {
          "output_type": "stream",
          "name": "stdout",
          "text": [
            "       raiz en:  1.3642578125\n",
            "error en tramo:  0.0009765625\n",
            "[-2.6826-0.3583j -2.6826+0.3583j  1.3652+0.j    ]\n"
          ]
        }
      ]
    },
    {
      "cell_type": "markdown",
      "source": [
        "# Jonatan Alexis Escobar"
      ],
      "metadata": {
        "id": "s50y7GaKMgWF"
      }
    },
    {
      "cell_type": "code",
      "source": [
        ""
      ],
      "metadata": {
        "id": "UqaiFo_5Mqiz"
      },
      "execution_count": null,
      "outputs": []
    },
    {
      "cell_type": "markdown",
      "source": [
        "\n",
        "\n",
        "```\n",
        "## Esto tiene formato de código\n",
        "```\n",
        "\n",
        "# Jhonatan Arley Mazo"
      ],
      "metadata": {
        "id": "8Jnwj8uKTDGA"
      }
    },
    {
      "cell_type": "markdown",
      "source": [
        "Jhonatan Arley Mazo Muñeton\n",
        "\n",
        "Conversor de grados entre Fahrenheit a Celsius en multiplos de 10. Intervalos de grados entre 0º - 100º C a 0º - 230º\n",
        "\n",
        "ejemplo interesante de https://es.stackoverflow.com/questions/419040/redondear-resultado-python\n",
        "\n",
        "```\n",
        "def Fahrenheit_to_Centigrado(g):\n",
        "    return int(round((g - 32) / 1.8))\n",
        "    \n",
        "def Centigrado_to_Fahrenheit(g):\n",
        "    return int(round((g * 1.8) + 32))\n",
        "\n",
        "\n",
        "def centigrados (ini, fini):\n",
        "    for grados in range (ini, fini+10, 10):\n",
        "        print(\"{}ºF--> {}ºC\".format(grados,Fahrenheit_to_Centigrado(grados))) \n",
        "\n",
        "def fahrenheit (ini, fini):\n",
        "    for grados in range (ini, fini+10, 10):\n",
        "        print(\"{}ºC--> {}ºF\".format(grados,Centigrado_to_Fahrenheit(grados))) \n",
        "\n",
        "Tipo = input(\"Salida F/C: \")\n",
        "\n",
        "if Tipo.upper() == 'C':\n",
        "    centigrados (0,230)\n",
        "elif Tipo.upper() == 'F':\n",
        "    fahrenheit (0,100)\n",
        "else:\n",
        "    print(\"Tipo de entrada incorrecto\")\n",
        "```\n",
        "\n"
      ],
      "metadata": {
        "id": "l7biQd7aNBP0"
      }
    },
    {
      "cell_type": "markdown",
      "source": [
        "# Daniel Santiago Rincon Acevedo"
      ],
      "metadata": {
        "id": "adY6e9UiTipk"
      }
    },
    {
      "cell_type": "markdown",
      "source": [
        "Debido a errores de redondeo, dos operaciones que deberian dar el mismo resultado pueden dar resultados diferente:"
      ],
      "metadata": {
        "id": "tnRF7WbYT3Rs"
      }
    },
    {
      "cell_type": "code",
      "source": [
        "a = 4*3/5\n",
        "b = 4/5*3\n",
        "print(a)\n",
        "print(b)"
      ],
      "metadata": {
        "colab": {
          "base_uri": "https://localhost:8080/"
        },
        "id": "dgmTRVpiUoKS",
        "outputId": "f009b5c9-ac52-4eb5-b39b-4ddb9ea10d39"
      },
      "execution_count": null,
      "outputs": [
        {
          "output_type": "stream",
          "name": "stdout",
          "text": [
            "2.4\n",
            "2.4000000000000004\n"
          ]
        }
      ]
    }
  ]
}