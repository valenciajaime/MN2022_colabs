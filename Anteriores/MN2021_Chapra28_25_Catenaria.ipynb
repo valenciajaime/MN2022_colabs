{
  "nbformat": 4,
  "nbformat_minor": 0,
  "metadata": {
    "colab": {
      "name": "MN2021_Chapra28-25_Catenaria.ipynb",
      "provenance": [],
      "collapsed_sections": [],
      "toc_visible": true,
      "authorship_tag": "ABX9TyNoR3vIdGfAgSGQn6ZFKZ+Y",
      "include_colab_link": true
    },
    "kernelspec": {
      "name": "python3",
      "display_name": "Python 3"
    }
  },
  "cells": [
    {
      "cell_type": "markdown",
      "metadata": {
        "id": "view-in-github",
        "colab_type": "text"
      },
      "source": [
        "<a href=\"https://colab.research.google.com/github/valenciajaime/MN2022_colabs/blob/main/Anteriores/MN2021_Chapra28_25_Catenaria.ipynb\" target=\"_parent\"><img src=\"https://colab.research.google.com/assets/colab-badge.svg\" alt=\"Open In Colab\"/></a>"
      ]
    },
    {
      "cell_type": "markdown",
      "metadata": {
        "id": "8jLsftGMFQWi"
      },
      "source": [
        "# Portada"
      ]
    },
    {
      "cell_type": "markdown",
      "metadata": {
        "id": "9gFVcos1FU4f"
      },
      "source": [
        "**Nombre:** \n",
        "\n",
        "Jaime A. Valencia\n",
        "\n",
        "Esteban Velilla\n",
        "\n",
        "**Email:**\n",
        "\n",
        "jalejandro.valencia@udea.edu.co\n",
        "\n",
        "esteban.velilla@udea.edu.co\n",
        "\n",
        "**Curso:**\n",
        "Metodos numericos\n",
        "\n",
        "**Fecha:**\n",
        "Martes 14 de septiembre del 2021"
      ]
    },
    {
      "cell_type": "markdown",
      "metadata": {
        "id": "Wa6U8gSDFxZQ"
      },
      "source": [
        "# Descripcion"
      ]
    },
    {
      "cell_type": "markdown",
      "metadata": {
        "id": "hSk79-jyGF3Y"
      },
      "source": [
        "**Objetivos:**\n",
        "\n",
        "Solucion numerica de la ecuacion diferencial de segundo orden con condiciones de frontera que describe la curva Catenaria de un cable tendido entre 2 soportes. Metodo del disparo.\n",
        "\n",
        "**Desarrollo:**\n",
        "\n",
        "1.   Programacion de funcion\n",
        "2.   Solucion con Scipy\n",
        "3.   Representacion grafica\n"
      ]
    },
    {
      "cell_type": "markdown",
      "metadata": {
        "id": "VeZYwF6ukzcS"
      },
      "source": [
        "# Programacion de funcion\n",
        "\n"
      ]
    },
    {
      "cell_type": "markdown",
      "metadata": {
        "id": "XkV3qTDLl9bc"
      },
      "source": [
        "Cable tendido\n",
        "Problema 28.25 Chapra-Canale\n",
        "\n",
        "\n",
        "$ \\frac{d^{2}y}{dx^{2}} =  \\frac{w_{0}}{T_{0}}[1 + sin(\\frac{\\pi x}{2L_{A}})] $\n",
        "\n",
        "$y(0)= 0$\n",
        "$y'(0) = 0$\n",
        "\n",
        "$y(200) = 50.0$\n",
        "\n",
        "$w_{o} = 1000.0$\n",
        "\n",
        "$T_{o} = ???? $\n",
        "\n",
        "Cambio de variables para transformar la ED de orden 2 en una ED vectorial de orden 1.\n",
        "\n",
        "$ \\overline u = \\begin{bmatrix}u_{0}, & u_{1} \\ \\end{bmatrix}=\\begin{bmatrix}y, & y' \\ \\end{bmatrix} $\n",
        "\n",
        "$ \\frac{d}{dt}  \\overline u = \\begin{bmatrix}y', & y'' \\ \\end{bmatrix} = \\begin{bmatrix}u_{1}, & \\frac{w_{0}}{T_{0}}[1 + sin(\\frac{\\pi x}{2L_{A}})]\\ \\end{bmatrix}$\n",
        "\n",
        "\n",
        "\n"
      ]
    },
    {
      "cell_type": "code",
      "metadata": {
        "id": "Dg9umIfWkl5j"
      },
      "source": [
        "import  matplotlib.pyplot as plt\n",
        "import numpy as np\n",
        "from scipy.integrate import odeint\n",
        "\n",
        "\n",
        "def FunCaten02(U, x,wo=1000.0,To=100.0):\n",
        "    \"\"\"U: funcion vectorial dependiente de x\n",
        "       x: variable independiente\n",
        "       U = [y, y']\n",
        "       \n",
        "    \"\"\"\n",
        "    La = 200 #ft\n",
        "\n",
        "    uo = U[0] \n",
        "    u1 = U[1] \n",
        "    d_uo = u1\n",
        "    d_u1 = (wo/To)*(1+ np.sin(np.pi*x/(2*La)))\n",
        "    res = np.array([d_uo, d_u1])\n",
        "    return res\n"
      ],
      "execution_count": null,
      "outputs": []
    },
    {
      "cell_type": "markdown",
      "metadata": {
        "id": "sz5kuy-pm2cL"
      },
      "source": [
        "# Solucion con scipy"
      ]
    },
    {
      "cell_type": "code",
      "metadata": {
        "id": "kTGITXlvm7aq",
        "colab": {
          "base_uri": "https://localhost:8080/"
        },
        "outputId": "ed318589-59d0-49bb-980f-7b957d6a5eca"
      },
      "source": [
        "#condiciones de frontera\n",
        "# condiciones de frontera\n",
        "# altura en 0 = 40    altura en 200 = 50\n",
        "\n",
        "#edicion de condiciones iniciales\n",
        "u_o = 0\n",
        "u_1 = 0 ##esta condicion se debe variar hasta que \n",
        "        ##se cumpla la otra condicion de frontera \n",
        "        ## u_o(2)= 50\n",
        "Uo = [u_o, u_1]\n",
        "\n",
        "print('Condiciones iniciales ', Uo)\n",
        "\n",
        "##definir rango de solucion\n",
        "x_inicial = 0\n",
        "x_final= 200.0 #ft\n",
        "sample = 20\n",
        "X = np.linspace(x_inicial, x_final, sample)\n",
        "\n",
        "print('Solucion entre ',x_inicial,' y ',x_final)\n",
        "\n",
        "##Solucionar la ED\n",
        "y_sol = odeint(FunCaten02, Uo, X,args=(1000.0, 585068.0514600921))\n",
        "\n",
        "print(\"Solucion de la ED y_sol\",y_sol.shape)\n",
        "print(\"u_o(2) - 2: \",y_sol[-1,0]-50)"
      ],
      "execution_count": null,
      "outputs": [
        {
          "output_type": "stream",
          "name": "stdout",
          "text": [
            "Condiciones iniciales  [0, 0]\n",
            "Solucion entre  0  y  200.0\n",
            "Solucion de la ED y_sol (20, 2)\n",
            "u_o(2) - 2:  9.237055564881302e-14\n"
          ]
        }
      ]
    },
    {
      "cell_type": "markdown",
      "metadata": {
        "id": "MAD_YnLmn6hm"
      },
      "source": [
        "# Representacion grafica"
      ]
    },
    {
      "cell_type": "code",
      "metadata": {
        "id": "JoJsT5feoF1P",
        "colab": {
          "base_uri": "https://localhost:8080/",
          "height": 295
        },
        "outputId": "65147b22-0e39-4678-9ee3-0bbf04a8e6a6"
      },
      "source": [
        "#Graficar resultados usando Matplotlib\n",
        "y_x = y_sol[:,0]\n",
        "#dy_t = y_sol[:,1]\n",
        "\n",
        "plt.figure(1)\n",
        "plt.plot(X, y_x,[X[0],X[-1]],[0,50],\"ro\")\n",
        "plt.legend([\"Solucion y(x)\",\"Cond. Frontera\"])\n",
        "plt.title('funcion y(x)')\n",
        "plt.xlabel('Eje de x (ft)')\n",
        "plt.ylabel('Eje de y (ft)')\n",
        "plt.grid(True)\n",
        "\n",
        "plt.show()"
      ],
      "execution_count": null,
      "outputs": [
        {
          "output_type": "display_data",
          "data": {
            "image/png": "[encoded data removed]",
            "text/plain": [
              "<Figure size 432x288 with 1 Axes>"
            ]
          },
          "metadata": {
            "needs_background": "light"
          }
        }
      ]
    },
    {
      "cell_type": "markdown",
      "metadata": {
        "id": "kJwa2Ex_OFn-"
      },
      "source": [
        "# Metodo Busqueda de RAIZ"
      ]
    },
    {
      "cell_type": "code",
      "metadata": {
        "id": "V2euZLBwOsfO",
        "colab": {
          "base_uri": "https://localhost:8080/"
        },
        "outputId": "086a4c86-7365-45cd-f261-6ae39c335d6b"
      },
      "source": [
        "# Funcion de una sola variable\n",
        "# para cada valor u_1 calculo: u_o - c.frontera\n",
        "\n",
        "from scipy import optimize\n",
        "\n",
        "def RDisparo02(TTo):\n",
        "  u_o = 0.\n",
        "  u_1 = 0. ##esta condicion se debe variar hasta que \n",
        "          ##se cumpla la otra condicion de frontera u_o(2)= 2.0\n",
        "  Uo = [u_o, u_1]\n",
        "  ##definir rango de solucion\n",
        "  t_inicial = 0; t_final= 200.0; sample = 20\n",
        "  X = np.linspace(t_inicial, t_final, sample)\n",
        "\n",
        "  ##Solucionar la ED\n",
        "  y_sol = odeint(FunCaten02, Uo, X,args=(1000.0, TTo))\n",
        "\n",
        "  error = y_sol[-1,0]- 50.0\n",
        "  return error\n",
        "\n",
        "##solucion con algoritmo de busqueda de raices escalares.\n",
        "\n",
        "Sol_disparo0 = optimize.newton(RDisparo02,10000.)\n",
        "Sol_disparo1 = optimize.bisect(RDisparo02,500000, 700000)\n",
        "print(\"Newton: \",Sol_disparo0)\n",
        "print(\"Bisect: \",Sol_disparo1)\n"
      ],
      "execution_count": null,
      "outputs": [
        {
          "output_type": "stream",
          "name": "stdout",
          "text": [
            "Newton:  585068.0514600892\n",
            "root:  585068.0514600921\n"
          ]
        }
      ]
    },
    {
      "cell_type": "markdown",
      "metadata": {
        "id": "pmlyZWWlRS4U"
      },
      "source": [
        "# Resultados y conclusiones"
      ]
    },
    {
      "cell_type": "markdown",
      "metadata": {
        "id": "7BmiMzI5RXRZ"
      },
      "source": [
        "**Resultados y analisis:**\n",
        "\n",
        "Respuesta Problema A quiz Reto 3:\n",
        "\n",
        "585068.05146\n",
        "\n",
        "\n",
        "**Conclusiones:**\n",
        "\n",
        "\n",
        "**Referencias:**\n",
        "\n",
        "[Odeint](https://docs.scipy.org/doc/scipy/reference/generated/scipy.integrate.odeint.html)\n",
        "\n",
        "[Burden&Faires 9ed](https://fac.ksu.edu.sa/sites/default/files/numerical_analysis_9th.pdf)\n",
        "\n",
        "[Scipy-optim](https://docs.scipy.org/doc/scipy/reference/tutorial/optimize.html)"
      ]
    }
  ]
}